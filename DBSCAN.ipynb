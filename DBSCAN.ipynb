{
  "nbformat": 4,
  "nbformat_minor": 0,
  "metadata": {
    "colab": {
      "name": "DBSCAN.ipynb",
      "provenance": [],
      "authorship_tag": "ABX9TyOhCXn742OkQbB4VETpk74l",
      "include_colab_link": true
    },
    "kernelspec": {
      "name": "python3",
      "display_name": "Python 3"
    },
    "language_info": {
      "name": "python"
    }
  },
  "cells": [
    {
      "cell_type": "markdown",
      "metadata": {
        "id": "view-in-github",
        "colab_type": "text"
      },
      "source": [
        "<a href=\"https://colab.research.google.com/github/karandoshi1810/Machine-Learning/blob/main/DBSCAN.ipynb\" target=\"_parent\"><img src=\"https://colab.research.google.com/assets/colab-badge.svg\" alt=\"Open In Colab\"/></a>"
      ]
    },
    {
      "cell_type": "code",
      "metadata": {
        "id": "B_gUv4ODsT4g"
      },
      "source": [
        "import numpy as np\n",
        "import pandas as pd\n",
        "import matplotlib.pyplot as plt"
      ],
      "execution_count": 7,
      "outputs": []
    },
    {
      "cell_type": "code",
      "metadata": {
        "id": "YS6zRXqmsYj3"
      },
      "source": [
        "from google.colab import drive #toimport google drive data"
      ],
      "execution_count": 8,
      "outputs": []
    },
    {
      "cell_type": "code",
      "metadata": {
        "colab": {
          "base_uri": "https://localhost:8080/"
        },
        "id": "9fOlfZBDsbZA",
        "outputId": "c85c7c3c-4608-4771-9876-604585615e7d"
      },
      "source": [
        "drive.mount('/content/drive') #to mount the drive data into colab clound and enterr the activation code"
      ],
      "execution_count": 9,
      "outputs": [
        {
          "output_type": "stream",
          "text": [
            "Drive already mounted at /content/drive; to attempt to forcibly remount, call drive.mount(\"/content/drive\", force_remount=True).\n"
          ],
          "name": "stdout"
        }
      ]
    },
    {
      "cell_type": "code",
      "metadata": {
        "colab": {
          "base_uri": "https://localhost:8080/"
        },
        "id": "9xVXzJOsseh0",
        "outputId": "e1217842-f5a7-49a2-e6e4-6cf53e61e1bf"
      },
      "source": [
        "cd /content/drive/\"My Drive\""
      ],
      "execution_count": 10,
      "outputs": [
        {
          "output_type": "stream",
          "text": [
            "/content/drive/My Drive\n"
          ],
          "name": "stdout"
        }
      ]
    },
    {
      "cell_type": "code",
      "metadata": {
        "id": "gCfiFmO8shN5"
      },
      "source": [
        "dataset = pd.read_csv('Colab Notebooks/Dataset/KMeans.csv')"
      ],
      "execution_count": 11,
      "outputs": []
    },
    {
      "cell_type": "code",
      "metadata": {
        "colab": {
          "base_uri": "https://localhost:8080/",
          "height": 402
        },
        "id": "ExCq0dWBtAQB",
        "outputId": "e401785d-4276-4450-dd73-e62a418f974e"
      },
      "source": [
        "X = dataset.iloc[:, [1, 2]].values\n",
        "\n",
        "dataset"
      ],
      "execution_count": 12,
      "outputs": [
        {
          "output_type": "execute_result",
          "data": {
            "text/html": [
              "<div>\n",
              "<style scoped>\n",
              "    .dataframe tbody tr th:only-of-type {\n",
              "        vertical-align: middle;\n",
              "    }\n",
              "\n",
              "    .dataframe tbody tr th {\n",
              "        vertical-align: top;\n",
              "    }\n",
              "\n",
              "    .dataframe thead th {\n",
              "        text-align: right;\n",
              "    }\n",
              "</style>\n",
              "<table border=\"1\" class=\"dataframe\">\n",
              "  <thead>\n",
              "    <tr style=\"text-align: right;\">\n",
              "      <th></th>\n",
              "      <th>Age</th>\n",
              "      <th>Annual Income (k$)</th>\n",
              "      <th>Spending Score (1-100)</th>\n",
              "    </tr>\n",
              "  </thead>\n",
              "  <tbody>\n",
              "    <tr>\n",
              "      <th>0</th>\n",
              "      <td>19</td>\n",
              "      <td>15</td>\n",
              "      <td>39</td>\n",
              "    </tr>\n",
              "    <tr>\n",
              "      <th>1</th>\n",
              "      <td>21</td>\n",
              "      <td>15</td>\n",
              "      <td>81</td>\n",
              "    </tr>\n",
              "    <tr>\n",
              "      <th>2</th>\n",
              "      <td>20</td>\n",
              "      <td>16</td>\n",
              "      <td>6</td>\n",
              "    </tr>\n",
              "    <tr>\n",
              "      <th>3</th>\n",
              "      <td>23</td>\n",
              "      <td>16</td>\n",
              "      <td>77</td>\n",
              "    </tr>\n",
              "    <tr>\n",
              "      <th>4</th>\n",
              "      <td>31</td>\n",
              "      <td>17</td>\n",
              "      <td>40</td>\n",
              "    </tr>\n",
              "    <tr>\n",
              "      <th>...</th>\n",
              "      <td>...</td>\n",
              "      <td>...</td>\n",
              "      <td>...</td>\n",
              "    </tr>\n",
              "    <tr>\n",
              "      <th>195</th>\n",
              "      <td>35</td>\n",
              "      <td>120</td>\n",
              "      <td>79</td>\n",
              "    </tr>\n",
              "    <tr>\n",
              "      <th>196</th>\n",
              "      <td>45</td>\n",
              "      <td>126</td>\n",
              "      <td>28</td>\n",
              "    </tr>\n",
              "    <tr>\n",
              "      <th>197</th>\n",
              "      <td>32</td>\n",
              "      <td>126</td>\n",
              "      <td>74</td>\n",
              "    </tr>\n",
              "    <tr>\n",
              "      <th>198</th>\n",
              "      <td>32</td>\n",
              "      <td>137</td>\n",
              "      <td>18</td>\n",
              "    </tr>\n",
              "    <tr>\n",
              "      <th>199</th>\n",
              "      <td>30</td>\n",
              "      <td>137</td>\n",
              "      <td>83</td>\n",
              "    </tr>\n",
              "  </tbody>\n",
              "</table>\n",
              "<p>200 rows × 3 columns</p>\n",
              "</div>"
            ],
            "text/plain": [
              "     Age  Annual Income (k$)  Spending Score (1-100)\n",
              "0     19                  15                      39\n",
              "1     21                  15                      81\n",
              "2     20                  16                       6\n",
              "3     23                  16                      77\n",
              "4     31                  17                      40\n",
              "..   ...                 ...                     ...\n",
              "195   35                 120                      79\n",
              "196   45                 126                      28\n",
              "197   32                 126                      74\n",
              "198   32                 137                      18\n",
              "199   30                 137                      83\n",
              "\n",
              "[200 rows x 3 columns]"
            ]
          },
          "metadata": {
            "tags": []
          },
          "execution_count": 12
        }
      ]
    },
    {
      "cell_type": "code",
      "metadata": {
        "id": "JYFVcI4UtD0T"
      },
      "source": [
        "from sklearn.cluster import DBSCAN\n",
        "from sklearn import metrics\n",
        "from sklearn.preprocessing import StandardScaler\n",
        "from sklearn.neighbors import NearestNeighbors\n",
        "import numpy as np\n",
        "import matplotlib.pyplot as plt\n",
        "import pandas as pd"
      ],
      "execution_count": 13,
      "outputs": []
    },
    {
      "cell_type": "code",
      "metadata": {
        "id": "i1ZUCQzCtJ-V"
      },
      "source": [
        "ns=3"
      ],
      "execution_count": 14,
      "outputs": []
    },
    {
      "cell_type": "code",
      "metadata": {
        "id": "1QyikpHVtMQn"
      },
      "source": [
        "nearestneighbours=NearestNeighbors(3).fit(X)"
      ],
      "execution_count": 15,
      "outputs": []
    },
    {
      "cell_type": "code",
      "metadata": {
        "colab": {
          "base_uri": "https://localhost:8080/"
        },
        "id": "x9TWUoG9tO3S",
        "outputId": "4363e02d-a58c-48c6-c63d-37d475196bcf"
      },
      "source": [
        "\n",
        "nearestneighbours"
      ],
      "execution_count": 16,
      "outputs": [
        {
          "output_type": "execute_result",
          "data": {
            "text/plain": [
              "NearestNeighbors(algorithm='auto', leaf_size=30, metric='minkowski',\n",
              "                 metric_params=None, n_jobs=None, n_neighbors=3, p=2,\n",
              "                 radius=1.0)"
            ]
          },
          "metadata": {
            "tags": []
          },
          "execution_count": 16
        }
      ]
    },
    {
      "cell_type": "code",
      "metadata": {
        "id": "jZvq3UrTtRop"
      },
      "source": [
        "distances, indices = nearestneighbours.kneighbors(X)"
      ],
      "execution_count": 17,
      "outputs": []
    },
    {
      "cell_type": "code",
      "metadata": {
        "colab": {
          "base_uri": "https://localhost:8080/"
        },
        "id": "SzUKEjPQtXdk",
        "outputId": "a934d08f-118b-47bd-8547-e4a501d47536"
      },
      "source": [
        "indices\n"
      ],
      "execution_count": 18,
      "outputs": [
        {
          "output_type": "execute_result",
          "data": {
            "text/plain": [
              "array([[  0,   4,  16],\n",
              "       [  1,   3,   5],\n",
              "       [  2,   6,   8],\n",
              "       [  3,   5,  13],\n",
              "       [  4,   0,  16],\n",
              "       [  5,   3,  13],\n",
              "       [  6,   2,   8],\n",
              "       [  7,  11,  19],\n",
              "       [  8,   6,   2],\n",
              "       [  9,   5,  21],\n",
              "       [ 10,  14,  12],\n",
              "       [ 11,  19,   7],\n",
              "       [ 12,  10,  14],\n",
              "       [ 13,  15,   5],\n",
              "       [ 14,  10,  12],\n",
              "       [ 15,  13,   5],\n",
              "       [ 16,  20,  18],\n",
              "       [ 17,   9,  21],\n",
              "       [ 18,  26,  20],\n",
              "       [ 19,  11,   7],\n",
              "       [ 20,  16,  26],\n",
              "       [ 21,  23,   9],\n",
              "       [ 22,  30,   8],\n",
              "       [ 23,  21,  31],\n",
              "       [ 24,  34,  36],\n",
              "       [ 25,  35,  29],\n",
              "       [ 26,  28,  20],\n",
              "       [ 27,  17,  43],\n",
              "       [ 28,  26,  18],\n",
              "       [ 29,  25,  33],\n",
              "       [ 30,  32,  22],\n",
              "       [ 31,  37,  23],\n",
              "       [ 32,  30,  22],\n",
              "       [ 33,  41,  29],\n",
              "       [ 34,  36,  24],\n",
              "       [ 35,  25,  39],\n",
              "       [ 36,  34,  24],\n",
              "       [ 37,  39,  31],\n",
              "       [ 38,  44,  40],\n",
              "       [ 39,  37,  35],\n",
              "       [ 40,  42,  44],\n",
              "       [ 41,  33,  29],\n",
              "       [ 42,  40,  48],\n",
              "       [ 43,  51,  45],\n",
              "       [ 44,  38,  40],\n",
              "       [ 45,  43,  51],\n",
              "       [ 46,  52,  50],\n",
              "       [ 47,  54,  57],\n",
              "       [ 49,  48,  55],\n",
              "       [ 49,  48,  55],\n",
              "       [ 50,  52,  56],\n",
              "       [ 51,  53,  43],\n",
              "       [ 52,  50,  46],\n",
              "       [ 53,  51,  63],\n",
              "       [ 54,  57,  59],\n",
              "       [ 55,  49,  48],\n",
              "       [ 56,  58,  50],\n",
              "       [ 57,  54,  59],\n",
              "       [ 58,  62,  64],\n",
              "       [ 59,  57,  69],\n",
              "       [ 60,  61,  63],\n",
              "       [ 61,  60,  70],\n",
              "       [ 62,  64,  58],\n",
              "       [ 63,  68,  65],\n",
              "       [ 64,  66,  62],\n",
              "       [ 65,  68,  63],\n",
              "       [ 66,  64,  67],\n",
              "       [ 67,  69,  66],\n",
              "       [ 65,  68,  63],\n",
              "       [ 69,  67,  59],\n",
              "       [ 70,  73,  61],\n",
              "       [ 71,  79,  59],\n",
              "       [ 72,  66,  67],\n",
              "       [ 73,  70,  68],\n",
              "       [ 74,  85,  77],\n",
              "       [ 75,  81,  76],\n",
              "       [ 76,  78,  75],\n",
              "       [ 77,  74,  85],\n",
              "       [ 78,  76,  80],\n",
              "       [ 79,  82,  83],\n",
              "       [ 80,  78,  76],\n",
              "       [ 81,  75,  76],\n",
              "       [ 82,  79,  83],\n",
              "       [ 83,  85,  79],\n",
              "       [ 84,  81,  75],\n",
              "       [ 85,  74,  77],\n",
              "       [ 86,  88,  87],\n",
              "       [ 87,  90,  86],\n",
              "       [ 88,  86, 102],\n",
              "       [ 89,  96,  92],\n",
              "       [ 90,  87, 103],\n",
              "       [ 91,  94,  93],\n",
              "       [ 92,  97,  99],\n",
              "       [ 93,  91,  94],\n",
              "       [ 94,  98,  91],\n",
              "       [ 95,  97,  92],\n",
              "       [ 96,  92,  89],\n",
              "       [ 97,  92,  99],\n",
              "       [ 98, 105,  94],\n",
              "       [ 99,  92,  97],\n",
              "       [100, 105,  98],\n",
              "       [101, 109,  99],\n",
              "       [102, 104, 117],\n",
              "       [103, 104, 111],\n",
              "       [104, 103, 111],\n",
              "       [105,  98, 100],\n",
              "       [106, 110, 115],\n",
              "       [107, 113, 109],\n",
              "       [108, 112, 105],\n",
              "       [109, 101, 114],\n",
              "       [110, 111, 106],\n",
              "       [111, 103, 110],\n",
              "       [112, 116, 108],\n",
              "       [113, 107, 114],\n",
              "       [114, 115, 109],\n",
              "       [115, 114, 106],\n",
              "       [116, 112, 118],\n",
              "       [117, 119, 102],\n",
              "       [118, 116, 121],\n",
              "       [119, 120, 122],\n",
              "       [120, 119, 122],\n",
              "       [121, 118, 112],\n",
              "       [122, 119, 120],\n",
              "       [123, 127, 135],\n",
              "       [124, 132, 126],\n",
              "       [125, 129, 131],\n",
              "       [126, 132, 124],\n",
              "       [127, 141, 123],\n",
              "       [128, 130, 138],\n",
              "       [129, 131, 125],\n",
              "       [130, 128, 136],\n",
              "       [129, 131, 125],\n",
              "       [132, 126, 124],\n",
              "       [133, 137, 139],\n",
              "       [134, 140, 136],\n",
              "       [135, 143, 123],\n",
              "       [136, 134, 130],\n",
              "       [137, 139, 133],\n",
              "       [138, 128, 130],\n",
              "       [139, 137, 133],\n",
              "       [140, 134, 136],\n",
              "       [141, 149, 127],\n",
              "       [142, 146, 160],\n",
              "       [143, 151, 155],\n",
              "       [144, 138, 154],\n",
              "       [145, 141, 163],\n",
              "       [146, 160, 142],\n",
              "       [147, 159, 153],\n",
              "       [148, 152, 150],\n",
              "       [149, 155, 151],\n",
              "       [150, 154, 152],\n",
              "       [151, 155, 149],\n",
              "       [152, 148, 150],\n",
              "       [153, 157, 147],\n",
              "       [154, 150, 152],\n",
              "       [155, 151, 149],\n",
              "       [158, 156, 140],\n",
              "       [157, 153, 147],\n",
              "       [158, 156, 140],\n",
              "       [159, 147, 153],\n",
              "       [160, 146, 142],\n",
              "       [161, 143, 157],\n",
              "       [162, 158, 156],\n",
              "       [163, 149, 155],\n",
              "       [164, 168, 166],\n",
              "       [165, 171, 177],\n",
              "       [166, 176, 164],\n",
              "       [167, 173, 163],\n",
              "       [168, 164, 166],\n",
              "       [169, 177, 171],\n",
              "       [170, 174, 176],\n",
              "       [171, 165, 177],\n",
              "       [172, 170, 174],\n",
              "       [173, 167, 175],\n",
              "       [174, 170, 176],\n",
              "       [175, 173, 179],\n",
              "       [176, 174, 170],\n",
              "       [177, 171, 169],\n",
              "       [178, 176, 174],\n",
              "       [179, 183, 181],\n",
              "       [180, 184, 186],\n",
              "       [181, 183, 179],\n",
              "       [182, 178, 188],\n",
              "       [183, 181, 179],\n",
              "       [184, 180, 186],\n",
              "       [185, 183, 179],\n",
              "       [186, 190, 188],\n",
              "       [187, 191, 177],\n",
              "       [188, 182, 190],\n",
              "       [189, 183, 181],\n",
              "       [190, 186, 188],\n",
              "       [191, 187, 177],\n",
              "       [192, 194, 188],\n",
              "       [193, 189, 195],\n",
              "       [194, 192, 196],\n",
              "       [195, 197, 193],\n",
              "       [196, 194, 198],\n",
              "       [197, 195, 199],\n",
              "       [198, 196, 194],\n",
              "       [199, 197, 195]])"
            ]
          },
          "metadata": {
            "tags": []
          },
          "execution_count": 18
        }
      ]
    },
    {
      "cell_type": "code",
      "metadata": {
        "colab": {
          "base_uri": "https://localhost:8080/"
        },
        "id": "2PtuMdeztddF",
        "outputId": "85a9a378-63f3-477d-8ebf-944524364c96"
      },
      "source": [
        "distanceDec = sorted(distances[:,ns-1], reverse=True)\n",
        "distances"
      ],
      "execution_count": 19,
      "outputs": [
        {
          "output_type": "execute_result",
          "data": {
            "text/plain": [
              "array([[ 0.        ,  2.23606798,  7.21110255],\n",
              "       [ 0.        ,  4.12310563,  5.38516481],\n",
              "       [ 0.        ,  2.        ,  4.24264069],\n",
              "       [ 0.        ,  1.41421356,  4.        ],\n",
              "       [ 0.        ,  2.23606798,  6.40312424],\n",
              "       [ 0.        ,  1.41421356,  3.16227766],\n",
              "       [ 0.        ,  2.        ,  3.16227766],\n",
              "       [ 0.        ,  5.09901951,  6.40312424],\n",
              "       [ 0.        ,  3.16227766,  4.24264069],\n",
              "       [ 0.        ,  4.47213595,  5.09901951],\n",
              "       [ 0.        ,  1.41421356,  1.41421356],\n",
              "       [ 0.        ,  4.12310563,  5.09901951],\n",
              "       [ 0.        ,  1.41421356,  2.        ],\n",
              "       [ 0.        ,  2.        ,  3.16227766],\n",
              "       [ 0.        ,  1.41421356,  2.        ],\n",
              "       [ 0.        ,  2.        ,  4.24264069],\n",
              "       [ 0.        ,  3.        ,  6.32455532],\n",
              "       [ 0.        ,  6.32455532,  7.61577311],\n",
              "       [ 0.        ,  5.83095189,  6.08276253],\n",
              "       [ 0.        ,  4.12310563,  6.40312424],\n",
              "       [ 0.        ,  3.        ,  5.        ],\n",
              "       [ 0.        ,  1.        ,  5.09901951],\n",
              "       [ 0.        ,  5.09901951,  6.32455532],\n",
              "       [ 0.        ,  1.        ,  5.        ],\n",
              "       [ 0.        ,  5.        ,  6.70820393],\n",
              "       [ 0.        ,  5.09901951,  5.09901951],\n",
              "       [ 0.        ,  1.41421356,  5.        ],\n",
              "       [ 0.        ,  8.60232527, 11.        ],\n",
              "       [ 0.        ,  1.41421356,  6.32455532],\n",
              "       [ 0.        ,  5.09901951,  6.40312424],\n",
              "       [ 0.        ,  3.        ,  5.09901951],\n",
              "       [ 0.        ,  4.        ,  5.        ],\n",
              "       [ 0.        ,  3.        ,  8.06225775],\n",
              "       [ 0.        ,  5.        ,  6.40312424],\n",
              "       [ 0.        ,  3.16227766,  5.        ],\n",
              "       [ 0.        ,  5.09901951,  7.21110255],\n",
              "       [ 0.        ,  3.16227766,  6.70820393],\n",
              "       [ 0.        ,  3.60555128,  4.        ],\n",
              "       [ 0.        ,  2.82842712,  9.05538514],\n",
              "       [ 0.        ,  3.60555128,  7.21110255],\n",
              "       [ 0.        ,  1.41421356,  7.07106781],\n",
              "       [ 0.        ,  5.        , 10.29563014],\n",
              "       [ 0.        ,  1.41421356,  6.08276253],\n",
              "       [ 0.        ,  3.16227766,  4.        ],\n",
              "       [ 0.        ,  2.82842712,  7.07106781],\n",
              "       [ 0.        ,  4.        ,  5.83095189],\n",
              "       [ 0.        ,  3.16227766,  3.60555128],\n",
              "       [ 0.        ,  3.60555128,  4.12310563],\n",
              "       [ 0.        ,  0.        ,  3.16227766],\n",
              "       [ 0.        ,  0.        ,  3.16227766],\n",
              "       [ 0.        ,  2.23606798,  2.82842712],\n",
              "       [ 0.        ,  1.        ,  3.16227766],\n",
              "       [ 0.        ,  2.23606798,  3.16227766],\n",
              "       [ 0.        ,  1.        ,  4.12310563],\n",
              "       [ 0.        ,  1.41421356,  3.16227766],\n",
              "       [ 0.        ,  3.16227766,  3.16227766],\n",
              "       [ 0.        ,  2.23606798,  2.82842712],\n",
              "       [ 0.        ,  1.41421356,  2.        ],\n",
              "       [ 0.        ,  1.41421356,  2.        ],\n",
              "       [ 0.        ,  2.        ,  2.23606798],\n",
              "       [ 0.        ,  1.        ,  3.16227766],\n",
              "       [ 0.        ,  1.        ,  3.        ],\n",
              "       [ 0.        ,  1.41421356,  1.41421356],\n",
              "       [ 0.        ,  1.        ,  1.        ],\n",
              "       [ 0.        ,  1.        ,  1.41421356],\n",
              "       [ 0.        ,  0.        ,  1.        ],\n",
              "       [ 0.        ,  1.        ,  2.        ],\n",
              "       [ 0.        ,  1.        ,  2.        ],\n",
              "       [ 0.        ,  0.        ,  1.        ],\n",
              "       [ 0.        ,  1.        ,  2.23606798],\n",
              "       [ 0.        ,  1.41421356,  3.        ],\n",
              "       [ 0.        ,  5.        ,  5.        ],\n",
              "       [ 0.        ,  2.23606798,  2.23606798],\n",
              "       [ 0.        ,  1.41421356,  3.60555128],\n",
              "       [ 0.        ,  1.        ,  1.        ],\n",
              "       [ 0.        ,  1.        ,  1.        ],\n",
              "       [ 0.        ,  1.        ,  1.        ],\n",
              "       [ 0.        ,  1.        ,  2.        ],\n",
              "       [ 0.        ,  1.        ,  1.        ],\n",
              "       [ 0.        ,  1.        ,  2.        ],\n",
              "       [ 0.        ,  1.        ,  2.        ],\n",
              "       [ 0.        ,  1.        ,  2.        ],\n",
              "       [ 0.        ,  1.        ,  3.        ],\n",
              "       [ 0.        ,  2.        ,  2.        ],\n",
              "       [ 0.        ,  2.        ,  3.        ],\n",
              "       [ 0.        ,  1.        ,  2.        ],\n",
              "       [ 0.        ,  2.23606798,  3.        ],\n",
              "       [ 0.        ,  2.        ,  3.        ],\n",
              "       [ 0.        ,  2.23606798,  4.12310563],\n",
              "       [ 0.        ,  2.23606798,  3.60555128],\n",
              "       [ 0.        ,  2.        ,  3.        ],\n",
              "       [ 0.        ,  1.41421356,  1.41421356],\n",
              "       [ 0.        ,  1.        ,  1.        ],\n",
              "       [ 0.        ,  1.41421356,  2.        ],\n",
              "       [ 0.        ,  1.        ,  1.41421356],\n",
              "       [ 0.        ,  2.        ,  3.        ],\n",
              "       [ 0.        ,  2.        ,  2.23606798],\n",
              "       [ 0.        ,  1.        ,  1.41421356],\n",
              "       [ 0.        ,  1.        ,  1.        ],\n",
              "       [ 0.        ,  1.        ,  1.41421356],\n",
              "       [ 0.        ,  1.        ,  1.41421356],\n",
              "       [ 0.        ,  1.        ,  1.41421356],\n",
              "       [ 0.        ,  3.        ,  3.        ],\n",
              "       [ 0.        ,  1.        ,  1.41421356],\n",
              "       [ 0.        ,  1.        ,  2.23606798],\n",
              "       [ 0.        ,  1.        ,  1.        ],\n",
              "       [ 0.        ,  2.        ,  2.        ],\n",
              "       [ 0.        ,  1.        ,  2.        ],\n",
              "       [ 0.        ,  1.41421356,  1.41421356],\n",
              "       [ 0.        ,  1.        ,  2.        ],\n",
              "       [ 0.        ,  2.        ,  2.        ],\n",
              "       [ 0.        ,  1.41421356,  2.        ],\n",
              "       [ 0.        ,  1.41421356,  1.41421356],\n",
              "       [ 0.        ,  1.        ,  2.23606798],\n",
              "       [ 0.        ,  2.        ,  2.        ],\n",
              "       [ 0.        ,  2.        ,  2.        ],\n",
              "       [ 0.        ,  1.41421356,  2.        ],\n",
              "       [ 0.        ,  2.82842712,  3.        ],\n",
              "       [ 0.        ,  2.        ,  3.        ],\n",
              "       [ 0.        ,  1.        ,  2.23606798],\n",
              "       [ 0.        ,  1.        ,  2.82842712],\n",
              "       [ 0.        ,  3.        ,  3.60555128],\n",
              "       [ 0.        ,  2.23606798,  2.82842712],\n",
              "       [ 0.        ,  4.47213595,  5.        ],\n",
              "       [ 0.        ,  5.38516481,  6.08276253],\n",
              "       [ 0.        ,  2.23606798,  2.23606798],\n",
              "       [ 0.        ,  1.41421356,  6.08276253],\n",
              "       [ 0.        ,  4.47213595,  4.47213595],\n",
              "       [ 0.        ,  2.        ,  3.16227766],\n",
              "       [ 0.        ,  0.        ,  2.23606798],\n",
              "       [ 0.        ,  2.        ,  2.82842712],\n",
              "       [ 0.        ,  0.        ,  2.23606798],\n",
              "       [ 0.        ,  1.41421356,  5.38516481],\n",
              "       [ 0.        ,  2.23606798,  2.23606798],\n",
              "       [ 0.        ,  2.        ,  2.        ],\n",
              "       [ 0.        ,  3.16227766,  5.        ],\n",
              "       [ 0.        ,  2.        ,  2.82842712],\n",
              "       [ 0.        ,  1.41421356,  2.23606798],\n",
              "       [ 0.        ,  3.16227766,  3.16227766],\n",
              "       [ 0.        ,  1.41421356,  2.23606798],\n",
              "       [ 0.        ,  2.        ,  2.82842712],\n",
              "       [ 0.        ,  4.24264069,  4.47213595],\n",
              "       [ 0.        ,  4.12310563,  5.83095189],\n",
              "       [ 0.        ,  2.23606798,  2.82842712],\n",
              "       [ 0.        ,  3.60555128,  4.12310563],\n",
              "       [ 0.        ,  4.47213595,  5.65685425],\n",
              "       [ 0.        ,  2.23606798,  4.12310563],\n",
              "       [ 0.        ,  1.41421356,  2.23606798],\n",
              "       [ 0.        ,  2.        ,  5.        ],\n",
              "       [ 0.        ,  1.        ,  2.        ],\n",
              "       [ 0.        ,  1.        ,  3.        ],\n",
              "       [ 0.        ,  1.        ,  2.        ],\n",
              "       [ 0.        ,  2.        ,  3.        ],\n",
              "       [ 0.        ,  2.        ,  2.23606798],\n",
              "       [ 0.        ,  1.        ,  4.        ],\n",
              "       [ 0.        ,  1.        ,  1.        ],\n",
              "       [ 0.        ,  0.        ,  5.        ],\n",
              "       [ 0.        ,  2.        ,  4.12310563],\n",
              "       [ 0.        ,  0.        ,  5.        ],\n",
              "       [ 0.        ,  1.41421356,  3.        ],\n",
              "       [ 0.        ,  2.23606798,  5.83095189],\n",
              "       [ 0.        ,  5.        ,  5.09901951],\n",
              "       [ 0.        ,  5.        ,  5.        ],\n",
              "       [ 0.        ,  4.24264069,  5.        ],\n",
              "       [ 0.        ,  2.23606798,  6.08276253],\n",
              "       [ 0.        ,  2.        ,  6.70820393],\n",
              "       [ 0.        ,  5.38516481,  6.08276253],\n",
              "       [ 0.        ,  3.16227766,  5.38516481],\n",
              "       [ 0.        ,  2.23606798,  7.07106781],\n",
              "       [ 0.        ,  6.08276253, 12.        ],\n",
              "       [ 0.        ,  1.        ,  2.23606798],\n",
              "       [ 0.        ,  2.        ,  6.08276253],\n",
              "       [ 0.        ,  3.        ,  3.16227766],\n",
              "       [ 0.        ,  3.16227766,  6.08276253],\n",
              "       [ 0.        ,  1.        ,  2.        ],\n",
              "       [ 0.        ,  6.08276253,  6.40312424],\n",
              "       [ 0.        ,  2.        ,  2.23606798],\n",
              "       [ 0.        ,  6.08276253,  6.08276253],\n",
              "       [ 0.        ,  5.09901951,  5.09901951],\n",
              "       [ 0.        ,  5.38516481,  5.65685425],\n",
              "       [ 0.        ,  7.28010989,  8.94427191],\n",
              "       [ 0.        ,  2.23606798,  5.65685425],\n",
              "       [ 0.        ,  5.09901951,  5.38516481],\n",
              "       [ 0.        ,  2.23606798,  5.38516481],\n",
              "       [ 0.        ,  7.28010989, 15.13274595],\n",
              "       [ 0.        ,  9.05538514,  9.21954446],\n",
              "       [ 0.        ,  2.23606798,  7.28010989],\n",
              "       [ 0.        ,  2.23606798, 13.03840481],\n",
              "       [ 0.        ,  5.38516481,  6.        ],\n",
              "       [ 0.        ,  5.83095189,  6.08276253],\n",
              "       [ 0.        ,  2.23606798,  6.        ],\n",
              "       [ 0.        ,  2.23606798, 15.        ],\n",
              "       [ 0.        , 10.63014581, 13.45362405],\n",
              "       [ 0.        , 11.66190379, 13.89244399],\n",
              "       [ 0.        , 10.63014581, 13.41640786],\n",
              "       [ 0.        ,  7.81024968, 13.89244399],\n",
              "       [ 0.        , 13.41640786, 14.86606875],\n",
              "       [ 0.        ,  7.81024968, 14.2126704 ],\n",
              "       [ 0.        , 14.86606875, 17.11724277],\n",
              "       [ 0.        , 14.2126704 , 17.4642492 ]])"
            ]
          },
          "metadata": {
            "tags": []
          },
          "execution_count": 19
        }
      ]
    },
    {
      "cell_type": "code",
      "metadata": {
        "colab": {
          "base_uri": "https://localhost:8080/",
          "height": 282
        },
        "id": "UycgZsfrtjxN",
        "outputId": "2c629eed-12bf-42ec-b528-ceff63a70eb1"
      },
      "source": [
        "plt.plot(indices[:,0], distanceDec)"
      ],
      "execution_count": 20,
      "outputs": [
        {
          "output_type": "execute_result",
          "data": {
            "text/plain": [
              "[<matplotlib.lines.Line2D at 0x7fc760aa5c90>]"
            ]
          },
          "metadata": {
            "tags": []
          },
          "execution_count": 20
        },
        {
          "output_type": "display_data",
          "data": {
            "image/png": "[encoded data removed]",
            "text/plain": [
              "<Figure size 432x288 with 1 Axes>"
            ]
          },
          "metadata": {
            "tags": [],
            "needs_background": "light"
          }
        }
      ]
    },
    {
      "cell_type": "code",
      "metadata": {
        "colab": {
          "base_uri": "https://localhost:8080/"
        },
        "id": "y3OVRBXptlzv",
        "outputId": "acd8123c-df49-4cb5-a35f-4aeda484246d"
      },
      "source": [
        "db=DBSCAN(eps=0.3,min_samples=5).fit(X)\n",
        "\n",
        "labels = db.labels_\n",
        "db.labels_"
      ],
      "execution_count": 21,
      "outputs": [
        {
          "output_type": "execute_result",
          "data": {
            "text/plain": [
              "array([-1, -1, -1, -1, -1, -1, -1, -1, -1, -1, -1, -1, -1, -1, -1, -1, -1,\n",
              "       -1, -1, -1, -1, -1, -1, -1, -1, -1, -1, -1, -1, -1, -1, -1, -1, -1,\n",
              "       -1, -1, -1, -1, -1, -1, -1, -1, -1, -1, -1, -1, -1, -1, -1, -1, -1,\n",
              "       -1, -1, -1, -1, -1, -1, -1, -1, -1, -1, -1, -1, -1, -1, -1, -1, -1,\n",
              "       -1, -1, -1, -1, -1, -1, -1, -1, -1, -1, -1, -1, -1, -1, -1, -1, -1,\n",
              "       -1, -1, -1, -1, -1, -1, -1, -1, -1, -1, -1, -1, -1, -1, -1, -1, -1,\n",
              "       -1, -1, -1, -1, -1, -1, -1, -1, -1, -1, -1, -1, -1, -1, -1, -1, -1,\n",
              "       -1, -1, -1, -1, -1, -1, -1, -1, -1, -1, -1, -1, -1, -1, -1, -1, -1,\n",
              "       -1, -1, -1, -1, -1, -1, -1, -1, -1, -1, -1, -1, -1, -1, -1, -1, -1,\n",
              "       -1, -1, -1, -1, -1, -1, -1, -1, -1, -1, -1, -1, -1, -1, -1, -1, -1,\n",
              "       -1, -1, -1, -1, -1, -1, -1, -1, -1, -1, -1, -1, -1, -1, -1, -1, -1,\n",
              "       -1, -1, -1, -1, -1, -1, -1, -1, -1, -1, -1, -1, -1])"
            ]
          },
          "metadata": {
            "tags": []
          },
          "execution_count": 21
        }
      ]
    },
    {
      "cell_type": "code",
      "metadata": {
        "colab": {
          "base_uri": "https://localhost:8080/"
        },
        "id": "2llxy8dCtsfO",
        "outputId": "1035cb49-a850-4f42-ff7b-cc59130d07a2"
      },
      "source": [
        "db.core_sample_indices_   #Finds core samples of high density and expands clusters from them. Good for data which contains clusters of similar density."
      ],
      "execution_count": 22,
      "outputs": [
        {
          "output_type": "execute_result",
          "data": {
            "text/plain": [
              "array([], dtype=int64)"
            ]
          },
          "metadata": {
            "tags": []
          },
          "execution_count": 22
        }
      ]
    },
    {
      "cell_type": "code",
      "metadata": {
        "id": "4FV0Yjw-tum8"
      },
      "source": [
        "core_samples_mask = np.zeros_like(db.labels_, dtype=bool)"
      ],
      "execution_count": 23,
      "outputs": []
    },
    {
      "cell_type": "code",
      "metadata": {
        "colab": {
          "base_uri": "https://localhost:8080/"
        },
        "id": "-e5Jn1GUtwiX",
        "outputId": "71166e76-6dc2-45b0-d7e3-f697f4a0fdd7"
      },
      "source": [
        "core_samples_mask"
      ],
      "execution_count": 24,
      "outputs": [
        {
          "output_type": "execute_result",
          "data": {
            "text/plain": [
              "array([False, False, False, False, False, False, False, False, False,\n",
              "       False, False, False, False, False, False, False, False, False,\n",
              "       False, False, False, False, False, False, False, False, False,\n",
              "       False, False, False, False, False, False, False, False, False,\n",
              "       False, False, False, False, False, False, False, False, False,\n",
              "       False, False, False, False, False, False, False, False, False,\n",
              "       False, False, False, False, False, False, False, False, False,\n",
              "       False, False, False, False, False, False, False, False, False,\n",
              "       False, False, False, False, False, False, False, False, False,\n",
              "       False, False, False, False, False, False, False, False, False,\n",
              "       False, False, False, False, False, False, False, False, False,\n",
              "       False, False, False, False, False, False, False, False, False,\n",
              "       False, False, False, False, False, False, False, False, False,\n",
              "       False, False, False, False, False, False, False, False, False,\n",
              "       False, False, False, False, False, False, False, False, False,\n",
              "       False, False, False, False, False, False, False, False, False,\n",
              "       False, False, False, False, False, False, False, False, False,\n",
              "       False, False, False, False, False, False, False, False, False,\n",
              "       False, False, False, False, False, False, False, False, False,\n",
              "       False, False, False, False, False, False, False, False, False,\n",
              "       False, False, False, False, False, False, False, False, False,\n",
              "       False, False, False, False, False, False, False, False, False,\n",
              "       False, False])"
            ]
          },
          "metadata": {
            "tags": []
          },
          "execution_count": 24
        }
      ]
    },
    {
      "cell_type": "code",
      "metadata": {
        "id": "xJd3Q2rAtzkr"
      },
      "source": [
        "core_samples_mask[db.core_sample_indices_] = True"
      ],
      "execution_count": 25,
      "outputs": []
    },
    {
      "cell_type": "code",
      "metadata": {
        "id": "zDC9gD-Kt1xN"
      },
      "source": [
        "n_clusters_ = len(set(labels)) - (1 if -1 in labels else 0)\n",
        "n_noise_ = list(labels).count(-1)"
      ],
      "execution_count": 26,
      "outputs": []
    },
    {
      "cell_type": "code",
      "metadata": {
        "colab": {
          "base_uri": "https://localhost:8080/"
        },
        "id": "Y_pCPrCCt31a",
        "outputId": "6c560c46-af98-4ad3-a87a-c3ef98c34c0d"
      },
      "source": [
        "print('Estimated number of clusters: %d' % n_clusters_)\n",
        "print('Estimated number of noise points: %d' % n_noise_)"
      ],
      "execution_count": 27,
      "outputs": [
        {
          "output_type": "stream",
          "text": [
            "Estimated number of clusters: 0\n",
            "Estimated number of noise points: 200\n"
          ],
          "name": "stdout"
        }
      ]
    },
    {
      "cell_type": "code",
      "metadata": {
        "id": "8QTUE0upt501"
      },
      "source": [
        "import matplotlib.pyplot as plt\n",
        "# Black removed and is used for noise instead.\n",
        "unique_labels = set(labels)\n",
        "colors = [plt.cm.Spectral(each)\n",
        "          for each in np.linspace(0, 1, len(unique_labels))]"
      ],
      "execution_count": 28,
      "outputs": []
    },
    {
      "cell_type": "code",
      "metadata": {
        "colab": {
          "base_uri": "https://localhost:8080/"
        },
        "id": "moTfjrIYt8ER",
        "outputId": "f00ac381-ac9d-400f-d6b2-385ab66184c1"
      },
      "source": [
        "np.linspace(0, 1, len(unique_labels))"
      ],
      "execution_count": 29,
      "outputs": [
        {
          "output_type": "execute_result",
          "data": {
            "text/plain": [
              "array([0.])"
            ]
          },
          "metadata": {
            "tags": []
          },
          "execution_count": 29
        }
      ]
    },
    {
      "cell_type": "code",
      "metadata": {
        "colab": {
          "base_uri": "https://localhost:8080/",
          "height": 298
        },
        "id": "pgQObnNit-p5",
        "outputId": "1a6a7415-bc3d-42f8-8427-57451942c265"
      },
      "source": [
        "for k, col in zip(unique_labels, colors):\n",
        "    if k == -1:\n",
        "        # Black used for noise.\n",
        "        col = [0, 0, 0, 1]\n",
        "\n",
        "    class_member_mask = (labels == k)          #noise point will be true else it will be false\n",
        "\n",
        "    xy = X[class_member_mask & core_samples_mask]                             #core sample and not noise sample\n",
        "    plt.plot(xy[:, 0], xy[:, 1], 'o', markerfacecolor=tuple(col),\n",
        "             markeredgecolor='k', markersize=14)\n",
        "\n",
        "    xy = X[class_member_mask & ~core_samples_mask]                            #not core sample i.e boundary samples and not noise sample\n",
        "    plt.plot(xy[:, 0], xy[:, 1], 'o', markerfacecolor=tuple(col),\n",
        "             markeredgecolor='k', markersize=6)\n",
        "\n",
        "plt.title('Estimated number of clust')"
      ],
      "execution_count": 30,
      "outputs": [
        {
          "output_type": "execute_result",
          "data": {
            "text/plain": [
              "Text(0.5, 1.0, 'Estimated number of clust')"
            ]
          },
          "metadata": {
            "tags": []
          },
          "execution_count": 30
        },
        {
          "output_type": "display_data",
          "data": {
            "image/png": "[encoded data removed]",
            "text/plain": [
              "<Figure size 432x288 with 1 Axes>"
            ]
          },
          "metadata": {
            "tags": [],
            "needs_background": "light"
          }
        }
      ]
    },
    {
      "cell_type": "code",
      "metadata": {
        "colab": {
          "base_uri": "https://localhost:8080/"
        },
        "id": "0Tr9RSAZuEsl",
        "outputId": "8a4d2873-938c-4b43-9f9a-3223c12289b1"
      },
      "source": [
        "labels"
      ],
      "execution_count": 31,
      "outputs": [
        {
          "output_type": "execute_result",
          "data": {
            "text/plain": [
              "array([-1, -1, -1, -1, -1, -1, -1, -1, -1, -1, -1, -1, -1, -1, -1, -1, -1,\n",
              "       -1, -1, -1, -1, -1, -1, -1, -1, -1, -1, -1, -1, -1, -1, -1, -1, -1,\n",
              "       -1, -1, -1, -1, -1, -1, -1, -1, -1, -1, -1, -1, -1, -1, -1, -1, -1,\n",
              "       -1, -1, -1, -1, -1, -1, -1, -1, -1, -1, -1, -1, -1, -1, -1, -1, -1,\n",
              "       -1, -1, -1, -1, -1, -1, -1, -1, -1, -1, -1, -1, -1, -1, -1, -1, -1,\n",
              "       -1, -1, -1, -1, -1, -1, -1, -1, -1, -1, -1, -1, -1, -1, -1, -1, -1,\n",
              "       -1, -1, -1, -1, -1, -1, -1, -1, -1, -1, -1, -1, -1, -1, -1, -1, -1,\n",
              "       -1, -1, -1, -1, -1, -1, -1, -1, -1, -1, -1, -1, -1, -1, -1, -1, -1,\n",
              "       -1, -1, -1, -1, -1, -1, -1, -1, -1, -1, -1, -1, -1, -1, -1, -1, -1,\n",
              "       -1, -1, -1, -1, -1, -1, -1, -1, -1, -1, -1, -1, -1, -1, -1, -1, -1,\n",
              "       -1, -1, -1, -1, -1, -1, -1, -1, -1, -1, -1, -1, -1, -1, -1, -1, -1,\n",
              "       -1, -1, -1, -1, -1, -1, -1, -1, -1, -1, -1, -1, -1])"
            ]
          },
          "metadata": {
            "tags": []
          },
          "execution_count": 31
        }
      ]
    },
    {
      "cell_type": "code",
      "metadata": {
        "colab": {
          "base_uri": "https://localhost:8080/"
        },
        "id": "WVZhTK0JuGpn",
        "outputId": "83e2709e-80c9-41e6-bd7a-1afb82a12dc8"
      },
      "source": [
        "class_member_mask"
      ],
      "execution_count": 32,
      "outputs": [
        {
          "output_type": "execute_result",
          "data": {
            "text/plain": [
              "array([ True,  True,  True,  True,  True,  True,  True,  True,  True,\n",
              "        True,  True,  True,  True,  True,  True,  True,  True,  True,\n",
              "        True,  True,  True,  True,  True,  True,  True,  True,  True,\n",
              "        True,  True,  True,  True,  True,  True,  True,  True,  True,\n",
              "        True,  True,  True,  True,  True,  True,  True,  True,  True,\n",
              "        True,  True,  True,  True,  True,  True,  True,  True,  True,\n",
              "        True,  True,  True,  True,  True,  True,  True,  True,  True,\n",
              "        True,  True,  True,  True,  True,  True,  True,  True,  True,\n",
              "        True,  True,  True,  True,  True,  True,  True,  True,  True,\n",
              "        True,  True,  True,  True,  True,  True,  True,  True,  True,\n",
              "        True,  True,  True,  True,  True,  True,  True,  True,  True,\n",
              "        True,  True,  True,  True,  True,  True,  True,  True,  True,\n",
              "        True,  True,  True,  True,  True,  True,  True,  True,  True,\n",
              "        True,  True,  True,  True,  True,  True,  True,  True,  True,\n",
              "        True,  True,  True,  True,  True,  True,  True,  True,  True,\n",
              "        True,  True,  True,  True,  True,  True,  True,  True,  True,\n",
              "        True,  True,  True,  True,  True,  True,  True,  True,  True,\n",
              "        True,  True,  True,  True,  True,  True,  True,  True,  True,\n",
              "        True,  True,  True,  True,  True,  True,  True,  True,  True,\n",
              "        True,  True,  True,  True,  True,  True,  True,  True,  True,\n",
              "        True,  True,  True,  True,  True,  True,  True,  True,  True,\n",
              "        True,  True,  True,  True,  True,  True,  True,  True,  True,\n",
              "        True,  True])"
            ]
          },
          "metadata": {
            "tags": []
          },
          "execution_count": 32
        }
      ]
    }
  ]
}