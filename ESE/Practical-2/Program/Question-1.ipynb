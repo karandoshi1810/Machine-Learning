{
 "cells": [
  {
   "cell_type": "code",
   "execution_count": 8,
   "metadata": {},
   "outputs": [
    {
     "data": {
      "text/html": [
       "<div>\n",
       "<style scoped>\n",
       "    .dataframe tbody tr th:only-of-type {\n",
       "        vertical-align: middle;\n",
       "    }\n",
       "\n",
       "    .dataframe tbody tr th {\n",
       "        vertical-align: top;\n",
       "    }\n",
       "\n",
       "    .dataframe thead th {\n",
       "        text-align: right;\n",
       "    }\n",
       "</style>\n",
       "<table border=\"1\" class=\"dataframe\">\n",
       "  <thead>\n",
       "    <tr style=\"text-align: right;\">\n",
       "      <th></th>\n",
       "      <th>s1</th>\n",
       "      <th>c1</th>\n",
       "      <th>s2</th>\n",
       "      <th>c2</th>\n",
       "      <th>s3</th>\n",
       "      <th>c3</th>\n",
       "      <th>s4</th>\n",
       "      <th>c4</th>\n",
       "      <th>s5</th>\n",
       "      <th>c5</th>\n",
       "      <th>classes</th>\n",
       "    </tr>\n",
       "  </thead>\n",
       "  <tbody>\n",
       "    <tr>\n",
       "      <td>0</td>\n",
       "      <td>1</td>\n",
       "      <td>10</td>\n",
       "      <td>1</td>\n",
       "      <td>11</td>\n",
       "      <td>1</td>\n",
       "      <td>13</td>\n",
       "      <td>1</td>\n",
       "      <td>12</td>\n",
       "      <td>1</td>\n",
       "      <td>1</td>\n",
       "      <td>9</td>\n",
       "    </tr>\n",
       "    <tr>\n",
       "      <td>1</td>\n",
       "      <td>2</td>\n",
       "      <td>11</td>\n",
       "      <td>2</td>\n",
       "      <td>13</td>\n",
       "      <td>2</td>\n",
       "      <td>10</td>\n",
       "      <td>2</td>\n",
       "      <td>12</td>\n",
       "      <td>2</td>\n",
       "      <td>1</td>\n",
       "      <td>9</td>\n",
       "    </tr>\n",
       "    <tr>\n",
       "      <td>2</td>\n",
       "      <td>3</td>\n",
       "      <td>12</td>\n",
       "      <td>3</td>\n",
       "      <td>11</td>\n",
       "      <td>3</td>\n",
       "      <td>13</td>\n",
       "      <td>3</td>\n",
       "      <td>10</td>\n",
       "      <td>3</td>\n",
       "      <td>1</td>\n",
       "      <td>9</td>\n",
       "    </tr>\n",
       "    <tr>\n",
       "      <td>3</td>\n",
       "      <td>4</td>\n",
       "      <td>10</td>\n",
       "      <td>4</td>\n",
       "      <td>11</td>\n",
       "      <td>4</td>\n",
       "      <td>1</td>\n",
       "      <td>4</td>\n",
       "      <td>13</td>\n",
       "      <td>4</td>\n",
       "      <td>12</td>\n",
       "      <td>9</td>\n",
       "    </tr>\n",
       "    <tr>\n",
       "      <td>4</td>\n",
       "      <td>4</td>\n",
       "      <td>1</td>\n",
       "      <td>4</td>\n",
       "      <td>13</td>\n",
       "      <td>4</td>\n",
       "      <td>12</td>\n",
       "      <td>4</td>\n",
       "      <td>11</td>\n",
       "      <td>4</td>\n",
       "      <td>10</td>\n",
       "      <td>9</td>\n",
       "    </tr>\n",
       "    <tr>\n",
       "      <td>...</td>\n",
       "      <td>...</td>\n",
       "      <td>...</td>\n",
       "      <td>...</td>\n",
       "      <td>...</td>\n",
       "      <td>...</td>\n",
       "      <td>...</td>\n",
       "      <td>...</td>\n",
       "      <td>...</td>\n",
       "      <td>...</td>\n",
       "      <td>...</td>\n",
       "      <td>...</td>\n",
       "    </tr>\n",
       "    <tr>\n",
       "      <td>25005</td>\n",
       "      <td>3</td>\n",
       "      <td>9</td>\n",
       "      <td>2</td>\n",
       "      <td>6</td>\n",
       "      <td>4</td>\n",
       "      <td>11</td>\n",
       "      <td>4</td>\n",
       "      <td>12</td>\n",
       "      <td>2</td>\n",
       "      <td>4</td>\n",
       "      <td>0</td>\n",
       "    </tr>\n",
       "    <tr>\n",
       "      <td>25006</td>\n",
       "      <td>4</td>\n",
       "      <td>1</td>\n",
       "      <td>4</td>\n",
       "      <td>10</td>\n",
       "      <td>3</td>\n",
       "      <td>13</td>\n",
       "      <td>3</td>\n",
       "      <td>4</td>\n",
       "      <td>1</td>\n",
       "      <td>10</td>\n",
       "      <td>1</td>\n",
       "    </tr>\n",
       "    <tr>\n",
       "      <td>25007</td>\n",
       "      <td>2</td>\n",
       "      <td>1</td>\n",
       "      <td>2</td>\n",
       "      <td>10</td>\n",
       "      <td>4</td>\n",
       "      <td>4</td>\n",
       "      <td>4</td>\n",
       "      <td>1</td>\n",
       "      <td>4</td>\n",
       "      <td>13</td>\n",
       "      <td>1</td>\n",
       "    </tr>\n",
       "    <tr>\n",
       "      <td>25008</td>\n",
       "      <td>2</td>\n",
       "      <td>12</td>\n",
       "      <td>4</td>\n",
       "      <td>3</td>\n",
       "      <td>1</td>\n",
       "      <td>10</td>\n",
       "      <td>1</td>\n",
       "      <td>12</td>\n",
       "      <td>4</td>\n",
       "      <td>9</td>\n",
       "      <td>1</td>\n",
       "    </tr>\n",
       "    <tr>\n",
       "      <td>25009</td>\n",
       "      <td>1</td>\n",
       "      <td>7</td>\n",
       "      <td>3</td>\n",
       "      <td>11</td>\n",
       "      <td>3</td>\n",
       "      <td>3</td>\n",
       "      <td>4</td>\n",
       "      <td>8</td>\n",
       "      <td>3</td>\n",
       "      <td>7</td>\n",
       "      <td>1</td>\n",
       "    </tr>\n",
       "  </tbody>\n",
       "</table>\n",
       "<p>25010 rows × 11 columns</p>\n",
       "</div>"
      ],
      "text/plain": [
       "       s1  c1  s2  c2  s3  c3  s4  c4  s5  c5  classes\n",
       "0       1  10   1  11   1  13   1  12   1   1        9\n",
       "1       2  11   2  13   2  10   2  12   2   1        9\n",
       "2       3  12   3  11   3  13   3  10   3   1        9\n",
       "3       4  10   4  11   4   1   4  13   4  12        9\n",
       "4       4   1   4  13   4  12   4  11   4  10        9\n",
       "...    ..  ..  ..  ..  ..  ..  ..  ..  ..  ..      ...\n",
       "25005   3   9   2   6   4  11   4  12   2   4        0\n",
       "25006   4   1   4  10   3  13   3   4   1  10        1\n",
       "25007   2   1   2  10   4   4   4   1   4  13        1\n",
       "25008   2  12   4   3   1  10   1  12   4   9        1\n",
       "25009   1   7   3  11   3   3   4   8   3   7        1\n",
       "\n",
       "[25010 rows x 11 columns]"
      ]
     },
     "execution_count": 8,
     "metadata": {},
     "output_type": "execute_result"
    }
   ],
   "source": [
    "import pandas as pd\n",
    "import numpy as mp\n",
    "import matplotlib.pyplot as plt\n",
    "\n",
    "'''data = open('E:\\KARAN-ICT\\SEMETSER-6\\ML\\Practical Exam\\poker-hand-training-true.data',\"r\")\n",
    "data = data.read()\n",
    "data=data.split('\\n')\n",
    "data'''\n",
    "\n",
    "columns=['s1','c1','s2','c2','s3','c3','s4','c4','s5','c5','classes' ]\n",
    "dataset = pd.read_csv(\"E:\\KARAN-ICT\\SEMETSER-6\\ML\\Practical Exam\\poker-hand-training-true.data\",names=columns)\n",
    "dataset"
   ]
  },
  {
   "cell_type": "code",
   "execution_count": 9,
   "metadata": {},
   "outputs": [
    {
     "name": "stdout",
     "output_type": "stream",
     "text": [
      "        s1  c1  s2  c2  s3  c3  s4  c4  s5  c5  classes\n",
      "0        1   1   1  13   2   4   2   3   1  12        0\n",
      "1        3  12   3   2   3  11   4   5   2   5        1\n",
      "2        1   9   4   6   1   4   3   2   3   9        1\n",
      "3        1   4   3  13   2  13   2   1   3   6        1\n",
      "4        3  10   2   7   1   2   2  11   4   9        0\n",
      "...     ..  ..  ..  ..  ..  ..  ..  ..  ..  ..      ...\n",
      "999995   3   1   1  12   2   9   4   9   2   6        1\n",
      "999996   3   3   4   5   2   7   1   4   4   3        1\n",
      "999997   1  11   4   7   3   9   1  13   2   7        1\n",
      "999998   3  11   1   8   1   1   3  13   2   8        1\n",
      "999999   2   5   2   9   4   9   2   3   3   3        2\n",
      "\n",
      "[1000000 rows x 11 columns]\n"
     ]
    }
   ],
   "source": [
    "dataset_test = pd.read_csv(\"E:\\KARAN-ICT\\SEMETSER-6\\ML\\Practical Exam\\poker-hand-testing.data\",names=col_names)\n",
    "print(dataset_test)"
   ]
  },
  {
   "cell_type": "code",
   "execution_count": 10,
   "metadata": {},
   "outputs": [
    {
     "name": "stdout",
     "output_type": "stream",
     "text": [
      "{0: 12493, 1: 10599, 2: 1206, 3: 513, 4: 93, 5: 54, 6: 36, 7: 6, 8: 5, 9: 5}\n"
     ]
    }
   ],
   "source": [
    "total_class = 10  \n",
    "poker_data = {}\n",
    "for i in range(total_class):\n",
    "    poker_data[i] = len(dataset[dataset.classes==i])\n",
    "print(poker_data)\n",
    "\n",
    "# Giving name to diferent class to visulize it\n",
    "poker_hands = [0, 1, 2, 3, 4, 5, 6, 7, 8, 9]\n",
    "hand_name = {\n",
    "    0: 'Nothing in hand',\n",
    "    1: 'One pair',\n",
    "    2: 'Two pairs',\n",
    "    3: 'Three of a kind',\n",
    "    4: 'Straight',\n",
    "    5: 'Flush',\n",
    "    6: 'Full house',\n",
    "    7: 'Four of a kind',\n",
    "    8: 'Straight flush',\n",
    "    9: 'Royal flush',\n",
    "}"
   ]
  },
  {
   "cell_type": "code",
   "execution_count": 14,
   "metadata": {},
   "outputs": [],
   "source": [
    "x = dataset.drop(['classes'], axis=1)\n",
    "y = dataset['classes']"
   ]
  },
  {
   "cell_type": "code",
   "execution_count": 15,
   "metadata": {},
   "outputs": [],
   "source": [
    "x_test_data = dataset_test.drop(['classes'], axis=1)\n",
    "y_test_data = dataset_test['classes']"
   ]
  },
  {
   "cell_type": "code",
   "execution_count": 16,
   "metadata": {},
   "outputs": [],
   "source": [
    "# spliting data in train and test dataset \n",
    "from sklearn.model_selection import train_test_split\n",
    "X_train, X_test, y_train, y_test = train_test_split(x, y, test_size = 0.25, random_state=42) # here 25% dataset will be of testing and 75% will be for training"
   ]
  },
  {
   "cell_type": "code",
   "execution_count": 19,
   "metadata": {},
   "outputs": [
    {
     "name": "stdout",
     "output_type": "stream",
     "text": [
      "For Nearest Neighbors =  2\n"
     ]
    },
    {
     "name": "stderr",
     "output_type": "stream",
     "text": [
      "C:\\Users\\HP\\Anaconda3\\lib\\site-packages\\sklearn\\metrics\\classification.py:1437: UndefinedMetricWarning: Precision and F-score are ill-defined and being set to 0.0 in labels with no predicted samples.\n",
      "  'precision', 'predicted', average, warn_for)\n"
     ]
    },
    {
     "name": "stdout",
     "output_type": "stream",
     "text": [
      "              precision    recall  f1-score   support\n",
      "\n",
      "           0       0.56      0.83      0.67      3134\n",
      "           1       0.52      0.31      0.39      2630\n",
      "           2       0.26      0.05      0.08       310\n",
      "           3       0.08      0.01      0.01       126\n",
      "           4       0.00      0.00      0.00        25\n",
      "           5       0.00      0.00      0.00        12\n",
      "           6       0.00      0.00      0.00        14\n",
      "           7       0.00      0.00      0.00         1\n",
      "           9       0.00      0.00      0.00         1\n",
      "\n",
      "    accuracy                           0.55      6253\n",
      "   macro avg       0.16      0.13      0.13      6253\n",
      "weighted avg       0.51      0.55      0.50      6253\n",
      "\n",
      "-------------------------------------------------------------------------\n",
      "For Nearest Neighbors =  3\n"
     ]
    },
    {
     "name": "stderr",
     "output_type": "stream",
     "text": [
      "C:\\Users\\HP\\Anaconda3\\lib\\site-packages\\sklearn\\metrics\\classification.py:1437: UndefinedMetricWarning: Precision and F-score are ill-defined and being set to 0.0 in labels with no predicted samples.\n",
      "  'precision', 'predicted', average, warn_for)\n"
     ]
    },
    {
     "name": "stdout",
     "output_type": "stream",
     "text": [
      "              precision    recall  f1-score   support\n",
      "\n",
      "           0       0.57      0.67      0.62      3134\n",
      "           1       0.48      0.46      0.47      2630\n",
      "           2       0.21      0.05      0.08       310\n",
      "           3       0.16      0.02      0.04       126\n",
      "           4       0.00      0.00      0.00        25\n",
      "           5       0.00      0.00      0.00        12\n",
      "           6       0.00      0.00      0.00        14\n",
      "           7       0.00      0.00      0.00         1\n",
      "           9       0.00      0.00      0.00         1\n",
      "\n",
      "    accuracy                           0.53      6253\n",
      "   macro avg       0.16      0.13      0.13      6253\n",
      "weighted avg       0.50      0.53      0.51      6253\n",
      "\n",
      "-------------------------------------------------------------------------\n",
      "For Nearest Neighbors =  4\n"
     ]
    },
    {
     "name": "stderr",
     "output_type": "stream",
     "text": [
      "C:\\Users\\HP\\Anaconda3\\lib\\site-packages\\sklearn\\metrics\\classification.py:1437: UndefinedMetricWarning: Precision and F-score are ill-defined and being set to 0.0 in labels with no predicted samples.\n",
      "  'precision', 'predicted', average, warn_for)\n"
     ]
    },
    {
     "name": "stdout",
     "output_type": "stream",
     "text": [
      "              precision    recall  f1-score   support\n",
      "\n",
      "           0       0.58      0.78      0.66      3134\n",
      "           1       0.51      0.37      0.43      2630\n",
      "           2       0.23      0.05      0.09       310\n",
      "           3       0.20      0.05      0.08       126\n",
      "           4       0.00      0.00      0.00        25\n",
      "           5       0.00      0.00      0.00        12\n",
      "           6       0.00      0.00      0.00        14\n",
      "           7       0.00      0.00      0.00         1\n",
      "           9       0.00      0.00      0.00         1\n",
      "\n",
      "    accuracy                           0.55      6253\n",
      "   macro avg       0.17      0.14      0.14      6253\n",
      "weighted avg       0.52      0.55      0.52      6253\n",
      "\n",
      "-------------------------------------------------------------------------\n",
      "For Nearest Neighbors =  5\n"
     ]
    },
    {
     "name": "stderr",
     "output_type": "stream",
     "text": [
      "C:\\Users\\HP\\Anaconda3\\lib\\site-packages\\sklearn\\metrics\\classification.py:1437: UndefinedMetricWarning: Precision and F-score are ill-defined and being set to 0.0 in labels with no predicted samples.\n",
      "  'precision', 'predicted', average, warn_for)\n"
     ]
    },
    {
     "name": "stdout",
     "output_type": "stream",
     "text": [
      "              precision    recall  f1-score   support\n",
      "\n",
      "           0       0.58      0.70      0.64      3134\n",
      "           1       0.50      0.47      0.49      2630\n",
      "           2       0.17      0.02      0.04       310\n",
      "           3       0.06      0.01      0.01       126\n",
      "           4       0.00      0.00      0.00        25\n",
      "           5       0.00      0.00      0.00        12\n",
      "           6       0.00      0.00      0.00        14\n",
      "           7       0.00      0.00      0.00         1\n",
      "           9       0.00      0.00      0.00         1\n",
      "\n",
      "    accuracy                           0.55      6253\n",
      "   macro avg       0.15      0.13      0.13      6253\n",
      "weighted avg       0.51      0.55      0.52      6253\n",
      "\n",
      "-------------------------------------------------------------------------\n",
      "For Nearest Neighbors =  6\n"
     ]
    },
    {
     "name": "stderr",
     "output_type": "stream",
     "text": [
      "C:\\Users\\HP\\Anaconda3\\lib\\site-packages\\sklearn\\metrics\\classification.py:1437: UndefinedMetricWarning: Precision and F-score are ill-defined and being set to 0.0 in labels with no predicted samples.\n",
      "  'precision', 'predicted', average, warn_for)\n"
     ]
    },
    {
     "name": "stdout",
     "output_type": "stream",
     "text": [
      "              precision    recall  f1-score   support\n",
      "\n",
      "           0       0.58      0.76      0.66      3134\n",
      "           1       0.52      0.42      0.46      2630\n",
      "           2       0.16      0.02      0.03       310\n",
      "           3       0.21      0.02      0.04       126\n",
      "           4       0.00      0.00      0.00        25\n",
      "           5       0.00      0.00      0.00        12\n",
      "           6       0.00      0.00      0.00        14\n",
      "           7       0.00      0.00      0.00         1\n",
      "           9       0.00      0.00      0.00         1\n",
      "\n",
      "    accuracy                           0.56      6253\n",
      "   macro avg       0.16      0.14      0.13      6253\n",
      "weighted avg       0.52      0.56      0.53      6253\n",
      "\n",
      "-------------------------------------------------------------------------\n",
      "For Nearest Neighbors =  7\n"
     ]
    },
    {
     "name": "stderr",
     "output_type": "stream",
     "text": [
      "C:\\Users\\HP\\Anaconda3\\lib\\site-packages\\sklearn\\metrics\\classification.py:1437: UndefinedMetricWarning: Precision and F-score are ill-defined and being set to 0.0 in labels with no predicted samples.\n",
      "  'precision', 'predicted', average, warn_for)\n"
     ]
    },
    {
     "name": "stdout",
     "output_type": "stream",
     "text": [
      "              precision    recall  f1-score   support\n",
      "\n",
      "           0       0.59      0.71      0.64      3134\n",
      "           1       0.51      0.46      0.48      2630\n",
      "           2       0.11      0.01      0.02       310\n",
      "           3       0.22      0.02      0.03       126\n",
      "           4       0.00      0.00      0.00        25\n",
      "           5       0.00      0.00      0.00        12\n",
      "           6       0.00      0.00      0.00        14\n",
      "           7       0.00      0.00      0.00         1\n",
      "           9       0.00      0.00      0.00         1\n",
      "\n",
      "    accuracy                           0.55      6253\n",
      "   macro avg       0.16      0.13      0.13      6253\n",
      "weighted avg       0.52      0.55      0.53      6253\n",
      "\n",
      "-------------------------------------------------------------------------\n",
      "For Nearest Neighbors =  8\n"
     ]
    },
    {
     "name": "stderr",
     "output_type": "stream",
     "text": [
      "C:\\Users\\HP\\Anaconda3\\lib\\site-packages\\sklearn\\metrics\\classification.py:1437: UndefinedMetricWarning: Precision and F-score are ill-defined and being set to 0.0 in labels with no predicted samples.\n",
      "  'precision', 'predicted', average, warn_for)\n"
     ]
    },
    {
     "name": "stdout",
     "output_type": "stream",
     "text": [
      "              precision    recall  f1-score   support\n",
      "\n",
      "           0       0.59      0.76      0.66      3134\n",
      "           1       0.53      0.45      0.48      2630\n",
      "           2       0.11      0.01      0.02       310\n",
      "           3       0.00      0.00      0.00       126\n",
      "           4       0.00      0.00      0.00        25\n",
      "           5       0.00      0.00      0.00        12\n",
      "           6       0.00      0.00      0.00        14\n",
      "           7       0.00      0.00      0.00         1\n",
      "           9       0.00      0.00      0.00         1\n",
      "\n",
      "    accuracy                           0.57      6253\n",
      "   macro avg       0.14      0.13      0.13      6253\n",
      "weighted avg       0.53      0.57      0.54      6253\n",
      "\n",
      "-------------------------------------------------------------------------\n",
      "For Nearest Neighbors =  9\n"
     ]
    },
    {
     "name": "stderr",
     "output_type": "stream",
     "text": [
      "C:\\Users\\HP\\Anaconda3\\lib\\site-packages\\sklearn\\metrics\\classification.py:1437: UndefinedMetricWarning: Precision and F-score are ill-defined and being set to 0.0 in labels with no predicted samples.\n",
      "  'precision', 'predicted', average, warn_for)\n"
     ]
    },
    {
     "name": "stdout",
     "output_type": "stream",
     "text": [
      "              precision    recall  f1-score   support\n",
      "\n",
      "           0       0.60      0.72      0.65      3134\n",
      "           1       0.52      0.48      0.50      2630\n",
      "           2       0.09      0.01      0.01       310\n",
      "           3       0.00      0.00      0.00       126\n",
      "           4       0.00      0.00      0.00        25\n",
      "           5       0.00      0.00      0.00        12\n",
      "           6       0.00      0.00      0.00        14\n",
      "           7       0.00      0.00      0.00         1\n",
      "           9       0.00      0.00      0.00         1\n",
      "\n",
      "    accuracy                           0.56      6253\n",
      "   macro avg       0.13      0.13      0.13      6253\n",
      "weighted avg       0.52      0.56      0.54      6253\n",
      "\n",
      "-------------------------------------------------------------------------\n",
      "For Nearest Neighbors =  10\n"
     ]
    },
    {
     "name": "stderr",
     "output_type": "stream",
     "text": [
      "C:\\Users\\HP\\Anaconda3\\lib\\site-packages\\sklearn\\metrics\\classification.py:1437: UndefinedMetricWarning: Precision and F-score are ill-defined and being set to 0.0 in labels with no predicted samples.\n",
      "  'precision', 'predicted', average, warn_for)\n"
     ]
    },
    {
     "name": "stdout",
     "output_type": "stream",
     "text": [
      "              precision    recall  f1-score   support\n",
      "\n",
      "           0       0.60      0.76      0.67      3134\n",
      "           1       0.53      0.45      0.49      2630\n",
      "           2       0.04      0.00      0.01       310\n",
      "           3       0.00      0.00      0.00       126\n",
      "           4       0.00      0.00      0.00        25\n",
      "           5       0.00      0.00      0.00        12\n",
      "           6       0.00      0.00      0.00        14\n",
      "           7       0.00      0.00      0.00         1\n",
      "           9       0.00      0.00      0.00         1\n",
      "\n",
      "    accuracy                           0.57      6253\n",
      "   macro avg       0.13      0.14      0.13      6253\n",
      "weighted avg       0.53      0.57      0.54      6253\n",
      "\n",
      "-------------------------------------------------------------------------\n",
      "For Nearest Neighbors =  11\n",
      "              precision    recall  f1-score   support\n",
      "\n",
      "           0       0.60      0.73      0.66      3134\n",
      "           1       0.52      0.48      0.50      2630\n",
      "           2       0.21      0.01      0.02       310\n",
      "           3       0.00      0.00      0.00       126\n",
      "           4       0.00      0.00      0.00        25\n",
      "           5       0.00      0.00      0.00        12\n",
      "           6       0.00      0.00      0.00        14\n",
      "           7       0.00      0.00      0.00         1\n",
      "           9       0.00      0.00      0.00         1\n",
      "\n",
      "    accuracy                           0.57      6253\n",
      "   macro avg       0.15      0.14      0.13      6253\n",
      "weighted avg       0.53      0.57      0.54      6253\n",
      "\n",
      "-------------------------------------------------------------------------\n"
     ]
    },
    {
     "name": "stderr",
     "output_type": "stream",
     "text": [
      "C:\\Users\\HP\\Anaconda3\\lib\\site-packages\\sklearn\\metrics\\classification.py:1437: UndefinedMetricWarning: Precision and F-score are ill-defined and being set to 0.0 in labels with no predicted samples.\n",
      "  'precision', 'predicted', average, warn_for)\n"
     ]
    }
   ],
   "source": [
    "from sklearn.neighbors import KNeighborsClassifier\n",
    "from sklearn.metrics import classification_report, confusion_matrix, f1_score\n",
    "\n",
    "for i in range(2,12):  #The dataset is big hence it will be trained for 10 neighbors\n",
    "    knc = KNeighborsClassifier(i)\n",
    "    knc.fit(X_train, y_train)\n",
    "    print(\"For Nearest Neighbors = \",i);\n",
    "    print(classification_report(y_test, knc.predict(X_test)))\n",
    "    print(\"-------------------------------------------------------------------------\")\n",
    "    #I am training model from 2 because if K =1 then it will overfit the model"
   ]
  },
  {
   "cell_type": "code",
   "execution_count": null,
   "metadata": {},
   "outputs": [],
   "source": [
    "#The accuracy varies from 53% to 57%\n",
    "#I am testing model from 2 because if K =1 then it will overfit the model"
   ]
  },
  {
   "cell_type": "code",
   "execution_count": 20,
   "metadata": {},
   "outputs": [
    {
     "name": "stdout",
     "output_type": "stream",
     "text": [
      "For Nearest Neighbors =  2\n"
     ]
    },
    {
     "name": "stderr",
     "output_type": "stream",
     "text": [
      "C:\\Users\\HP\\Anaconda3\\lib\\site-packages\\sklearn\\metrics\\classification.py:1437: UndefinedMetricWarning: Precision and F-score are ill-defined and being set to 0.0 in labels with no predicted samples.\n",
      "  'precision', 'predicted', average, warn_for)\n"
     ]
    },
    {
     "name": "stdout",
     "output_type": "stream",
     "text": [
      "              precision    recall  f1-score   support\n",
      "\n",
      "           0       0.56      0.82      0.67    501209\n",
      "           1       0.52      0.32      0.39    422498\n",
      "           2       0.19      0.04      0.06     47622\n",
      "           3       0.15      0.01      0.03     21121\n",
      "           4       0.06      0.00      0.01      3885\n",
      "           5       0.00      0.00      0.00      1996\n",
      "           6       0.20      0.00      0.00      1424\n",
      "           7       0.00      0.00      0.00       230\n",
      "           8       0.00      0.00      0.00        12\n",
      "           9       0.00      0.00      0.00         3\n",
      "\n",
      "    accuracy                           0.55   1000000\n",
      "   macro avg       0.17      0.12      0.12   1000000\n",
      "weighted avg       0.51      0.55      0.50   1000000\n",
      "\n",
      "-------------------------------------------------------------------------\n",
      "For Nearest Neighbors =  3\n"
     ]
    },
    {
     "name": "stderr",
     "output_type": "stream",
     "text": [
      "C:\\Users\\HP\\Anaconda3\\lib\\site-packages\\sklearn\\metrics\\classification.py:1437: UndefinedMetricWarning: Precision and F-score are ill-defined and being set to 0.0 in labels with no predicted samples.\n",
      "  'precision', 'predicted', average, warn_for)\n"
     ]
    },
    {
     "name": "stdout",
     "output_type": "stream",
     "text": [
      "              precision    recall  f1-score   support\n",
      "\n",
      "           0       0.58      0.67      0.62    501209\n",
      "           1       0.49      0.46      0.47    422498\n",
      "           2       0.18      0.04      0.07     47622\n",
      "           3       0.16      0.02      0.04     21121\n",
      "           4       0.08      0.01      0.01      3885\n",
      "           5       0.11      0.00      0.00      1996\n",
      "           6       0.15      0.00      0.00      1424\n",
      "           7       0.00      0.00      0.00       230\n",
      "           8       0.00      0.00      0.00        12\n",
      "           9       0.00      0.00      0.00         3\n",
      "\n",
      "    accuracy                           0.53   1000000\n",
      "   macro avg       0.17      0.12      0.12   1000000\n",
      "weighted avg       0.51      0.53      0.52   1000000\n",
      "\n",
      "-------------------------------------------------------------------------\n",
      "For Nearest Neighbors =  4\n"
     ]
    },
    {
     "name": "stderr",
     "output_type": "stream",
     "text": [
      "C:\\Users\\HP\\Anaconda3\\lib\\site-packages\\sklearn\\metrics\\classification.py:1437: UndefinedMetricWarning: Precision and F-score are ill-defined and being set to 0.0 in labels with no predicted samples.\n",
      "  'precision', 'predicted', average, warn_for)\n"
     ]
    },
    {
     "name": "stdout",
     "output_type": "stream",
     "text": [
      "              precision    recall  f1-score   support\n",
      "\n",
      "           0       0.58      0.77      0.66    501209\n",
      "           1       0.52      0.38      0.44    422498\n",
      "           2       0.18      0.04      0.07     47622\n",
      "           3       0.14      0.02      0.04     21121\n",
      "           4       0.07      0.01      0.01      3885\n",
      "           5       0.05      0.00      0.00      1996\n",
      "           6       0.15      0.00      0.00      1424\n",
      "           7       0.00      0.00      0.00       230\n",
      "           8       0.00      0.00      0.00        12\n",
      "           9       0.00      0.00      0.00         3\n",
      "\n",
      "    accuracy                           0.55   1000000\n",
      "   macro avg       0.17      0.12      0.12   1000000\n",
      "weighted avg       0.52      0.55      0.52   1000000\n",
      "\n",
      "-------------------------------------------------------------------------\n",
      "For Nearest Neighbors =  5\n",
      "              precision    recall  f1-score   support\n",
      "\n",
      "           0       0.58      0.70      0.64    501209\n",
      "           1       0.50      0.46      0.48    422498\n",
      "           2       0.22      0.03      0.05     47622\n",
      "           3       0.16      0.01      0.02     21121\n",
      "           4       0.07      0.00      0.01      3885\n",
      "           5       0.00      0.00      0.00      1996\n",
      "           6       0.11      0.00      0.00      1424\n",
      "           7       0.00      0.00      0.00       230\n",
      "           8       0.00      0.00      0.00        12\n",
      "           9       0.00      0.00      0.00         3\n",
      "\n",
      "    accuracy                           0.55   1000000\n",
      "   macro avg       0.16      0.12      0.12   1000000\n",
      "weighted avg       0.52      0.55      0.52   1000000\n",
      "\n",
      "-------------------------------------------------------------------------\n",
      "For Nearest Neighbors =  6\n"
     ]
    },
    {
     "name": "stderr",
     "output_type": "stream",
     "text": [
      "C:\\Users\\HP\\Anaconda3\\lib\\site-packages\\sklearn\\metrics\\classification.py:1437: UndefinedMetricWarning: Precision and F-score are ill-defined and being set to 0.0 in labels with no predicted samples.\n",
      "  'precision', 'predicted', average, warn_for)\n"
     ]
    },
    {
     "name": "stdout",
     "output_type": "stream",
     "text": [
      "              precision    recall  f1-score   support\n",
      "\n",
      "           0       0.58      0.77      0.66    501209\n",
      "           1       0.52      0.41      0.46    422498\n",
      "           2       0.22      0.03      0.05     47622\n",
      "           3       0.18      0.01      0.02     21121\n",
      "           4       0.05      0.00      0.00      3885\n",
      "           5       0.00      0.00      0.00      1996\n",
      "           6       0.33      0.00      0.00      1424\n",
      "           7       0.00      0.00      0.00       230\n",
      "           8       0.00      0.00      0.00        12\n",
      "           9       0.00      0.00      0.00         3\n",
      "\n",
      "    accuracy                           0.56   1000000\n",
      "   macro avg       0.19      0.12      0.12   1000000\n",
      "weighted avg       0.53      0.56      0.53   1000000\n",
      "\n",
      "-------------------------------------------------------------------------\n"
     ]
    }
   ],
   "source": [
    "for i in range(2,7):\n",
    "    knc = KNeighborsClassifier(i)\n",
    "    knc.fit(X_train, y_train)\n",
    "    print(\"For Nearest Neighbors = \",i);\n",
    "    print(classification_report(y_test_data, knc.predict(x_test_data)))\n",
    "    print(\"-------------------------------------------------------------------------\")"
   ]
  },
  {
   "cell_type": "code",
   "execution_count": null,
   "metadata": {},
   "outputs": [],
   "source": [
    "#The accuracy of model is around 55%"
   ]
  }
 ],
 "metadata": {
  "kernelspec": {
   "display_name": "Python 3",
   "language": "python",
   "name": "python3"
  },
  "language_info": {
   "codemirror_mode": {
    "name": "ipython",
    "version": 3
   },
   "file_extension": ".py",
   "mimetype": "text/x-python",
   "name": "python",
   "nbconvert_exporter": "python",
   "pygments_lexer": "ipython3",
   "version": "3.7.4"
  }
 },
 "nbformat": 4,
 "nbformat_minor": 2
}
