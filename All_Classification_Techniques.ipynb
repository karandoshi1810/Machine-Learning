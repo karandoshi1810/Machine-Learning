{
  "nbformat": 4,
  "nbformat_minor": 0,
  "metadata": {
    "colab": {
      "name": "All Classification Techniques.ipynb",
      "provenance": [],
      "collapsed_sections": [],
      "authorship_tag": "ABX9TyNemFmmXj7ioqXs/ZCENpVr",
      "include_colab_link": true
    },
    "kernelspec": {
      "name": "python3",
      "display_name": "Python 3"
    },
    "language_info": {
      "name": "python"
    }
  },
  "cells": [
    {
      "cell_type": "markdown",
      "metadata": {
        "id": "view-in-github",
        "colab_type": "text"
      },
      "source": [
        "<a href=\"https://colab.research.google.com/github/karandoshi1810/Machine-Learning/blob/main/All_Classification_Techniques.ipynb\" target=\"_parent\"><img src=\"https://colab.research.google.com/assets/colab-badge.svg\" alt=\"Open In Colab\"/></a>"
      ]
    },
    {
      "cell_type": "code",
      "metadata": {
        "id": "xKJwxzguCQ7J"
      },
      "source": [
        "import numpy as np\n",
        "import pandas as pd\n",
        "import matplotlib.pyplot as plt\n",
        "import math"
      ],
      "execution_count": null,
      "outputs": []
    },
    {
      "cell_type": "code",
      "metadata": {
        "id": "KlIPczOtryzc"
      },
      "source": [
        "#To import datafiles from Google Drive\n",
        "from google.colab import drive"
      ],
      "execution_count": null,
      "outputs": []
    },
    {
      "cell_type": "code",
      "metadata": {
        "colab": {
          "base_uri": "https://localhost:8080/"
        },
        "id": "DPCfefJbr_q7",
        "outputId": "a8c8e18f-981c-40f3-dd0b-2037fb9a7091"
      },
      "source": [
        "#To mount the drive data into colab cloud and enter the activation code\n",
        "drive.mount('/content/drive')"
      ],
      "execution_count": null,
      "outputs": [
        {
          "output_type": "stream",
          "text": [
            "Mounted at /content/drive\n"
          ],
          "name": "stdout"
        }
      ]
    },
    {
      "cell_type": "code",
      "metadata": {
        "colab": {
          "base_uri": "https://localhost:8080/"
        },
        "id": "Q1jytZPwsRvn",
        "outputId": "f6a11322-f8a0-4895-dcd7-073726e0a1be"
      },
      "source": [
        "cd /content/drive/\"My Drive/Colab Notebooks/Dataset\""
      ],
      "execution_count": null,
      "outputs": [
        {
          "output_type": "stream",
          "text": [
            "/content/drive/My Drive/Colab Notebooks/Dataset\n"
          ],
          "name": "stdout"
        }
      ]
    },
    {
      "cell_type": "code",
      "metadata": {
        "colab": {
          "base_uri": "https://localhost:8080/"
        },
        "id": "QtuKVHfVCHFv",
        "outputId": "2c65eb27-50e6-482f-838a-8b6cecc96404"
      },
      "source": [
        "#reading data from drive using pandas library\n",
        "df=pd.read_csv(\"Elections.csv\")\n",
        "print(df)\n"
      ],
      "execution_count": null,
      "outputs": [
        {
          "output_type": "stream",
          "text": [
            "       County2012Id StateCode  CountyName  ...  FirstName  LastName  Votes\n",
            "0                 2        AK      Alaska  ...     Barack     Obama  91696\n",
            "1                 4        AL     Autauga  ...     Barack     Obama   6354\n",
            "2                 5        AL     Baldwin  ...     Barack     Obama  18329\n",
            "3                 6        AL     Barbour  ...     Barack     Obama   5873\n",
            "4                 7        AL        Bibb  ...     Barack     Obama   2200\n",
            "...             ...       ...         ...  ...        ...       ...    ...\n",
            "23233         23594        CO      Summit  ...      Jerry     White      1\n",
            "23234         23595        CO      Teller  ...      Jerry     White      1\n",
            "23235         23596        CO  Washington  ...      Jerry     White      1\n",
            "23236         23597        CO        Weld  ...      Jerry     White      5\n",
            "23237         23598        CO        Yuma  ...      Jerry     White      0\n",
            "\n",
            "[23238 rows x 13 columns]\n"
          ],
          "name": "stdout"
        }
      ]
    },
    {
      "cell_type": "code",
      "metadata": {
        "colab": {
          "base_uri": "https://localhost:8080/"
        },
        "id": "eEL-VHLBCiJW",
        "outputId": "7c9ef527-f9a7-493b-b21f-d20d68c3e0c9"
      },
      "source": [
        "print(df.corr())"
      ],
      "execution_count": null,
      "outputs": [
        {
          "output_type": "stream",
          "text": [
            "                   County2012Id  CountyNumber  ...  SourceOrder     Votes\n",
            "County2012Id           1.000000     -0.066637  ...     0.777452 -0.196587\n",
            "CountyNumber          -0.066637      1.000000  ...    -0.164556 -0.012829\n",
            "FipsCode              -0.060955      0.999576  ...    -0.161498 -0.014130\n",
            "PrecintsReporting      0.041979     -0.060354  ...     0.071490  0.492556\n",
            "TotalPrecincts         0.042061     -0.058946  ...     0.071633  0.492486\n",
            "CountyTotalVotes       0.056731     -0.058504  ...     0.095874  0.531315\n",
            "SourceOrder            0.777452     -0.164556  ...     1.000000 -0.144967\n",
            "Votes                 -0.196587     -0.012829  ...    -0.144967  1.000000\n",
            "\n",
            "[8 rows x 8 columns]\n"
          ],
          "name": "stdout"
        }
      ]
    },
    {
      "cell_type": "code",
      "metadata": {
        "id": "LiJ8l2mj9aHG"
      },
      "source": [
        "# Import LabelEncoder\n",
        "from sklearn import preprocessing\n",
        "#creating labelEncoder\n",
        "le = preprocessing.LabelEncoder()\n",
        "# Converting string labels into numbers.\n",
        "df['Party']=le.fit_transform(df['Party'])"
      ],
      "execution_count": null,
      "outputs": []
    },
    {
      "cell_type": "code",
      "metadata": {
        "colab": {
          "base_uri": "https://localhost:8080/",
          "height": 347
        },
        "id": "Iy5y32npInSO",
        "outputId": "ed9006e8-7e85-4b09-9996-903f42cbf706"
      },
      "source": [
        "import seaborn as sns\n",
        "\n",
        "import matplotlib.pyplot as plt\n",
        "\n",
        "# taking all rows but only  columns\n",
        "df_small = df.iloc[:,:13]\n",
        "\n",
        "correlation_mat = df_small.corr(min_periods=13).abs()\n",
        "\n",
        "sns.heatmap(correlation_mat, annot = True)\n",
        "\n",
        "plt.show()\n"
      ],
      "execution_count": null,
      "outputs": [
        {
          "output_type": "display_data",
          "data": {
            "image/png": "[encoded data removed]",
            "text/plain": [
              "<Figure size 432x288 with 2 Axes>"
            ]
          },
          "metadata": {
            "tags": [],
            "needs_background": "light"
          }
        }
      ]
    },
    {
      "cell_type": "code",
      "metadata": {
        "colab": {
          "base_uri": "https://localhost:8080/",
          "height": 402
        },
        "id": "mfeSPxb1rk9g",
        "outputId": "ad98541b-a870-4c49-9206-24942e106a6a"
      },
      "source": [
        "df1=df[[\"County2012Id\",\"CountyNumber\",\"FipsCode\",\"PrecintsReporting\",\"TotalPrecincts\",\"CountyTotalVotes\",\"SourceOrder\",\"Votes\",\"Party\"]].copy()\n",
        "df1"
      ],
      "execution_count": null,
      "outputs": [
        {
          "output_type": "execute_result",
          "data": {
            "text/html": [
              "<div>\n",
              "<style scoped>\n",
              "    .dataframe tbody tr th:only-of-type {\n",
              "        vertical-align: middle;\n",
              "    }\n",
              "\n",
              "    .dataframe tbody tr th {\n",
              "        vertical-align: top;\n",
              "    }\n",
              "\n",
              "    .dataframe thead th {\n",
              "        text-align: right;\n",
              "    }\n",
              "</style>\n",
              "<table border=\"1\" class=\"dataframe\">\n",
              "  <thead>\n",
              "    <tr style=\"text-align: right;\">\n",
              "      <th></th>\n",
              "      <th>County2012Id</th>\n",
              "      <th>CountyNumber</th>\n",
              "      <th>FipsCode</th>\n",
              "      <th>PrecintsReporting</th>\n",
              "      <th>TotalPrecincts</th>\n",
              "      <th>CountyTotalVotes</th>\n",
              "      <th>SourceOrder</th>\n",
              "      <th>Votes</th>\n",
              "      <th>Party</th>\n",
              "    </tr>\n",
              "  </thead>\n",
              "  <tbody>\n",
              "    <tr>\n",
              "      <th>0</th>\n",
              "      <td>2</td>\n",
              "      <td>2001</td>\n",
              "      <td>2000</td>\n",
              "      <td>437</td>\n",
              "      <td>438</td>\n",
              "      <td>220596</td>\n",
              "      <td>1</td>\n",
              "      <td>91696</td>\n",
              "      <td>5</td>\n",
              "    </tr>\n",
              "    <tr>\n",
              "      <th>1</th>\n",
              "      <td>4</td>\n",
              "      <td>1001</td>\n",
              "      <td>1001</td>\n",
              "      <td>28</td>\n",
              "      <td>28</td>\n",
              "      <td>23909</td>\n",
              "      <td>1</td>\n",
              "      <td>6354</td>\n",
              "      <td>5</td>\n",
              "    </tr>\n",
              "    <tr>\n",
              "      <th>2</th>\n",
              "      <td>5</td>\n",
              "      <td>1002</td>\n",
              "      <td>1003</td>\n",
              "      <td>55</td>\n",
              "      <td>55</td>\n",
              "      <td>84988</td>\n",
              "      <td>1</td>\n",
              "      <td>18329</td>\n",
              "      <td>5</td>\n",
              "    </tr>\n",
              "    <tr>\n",
              "      <th>3</th>\n",
              "      <td>6</td>\n",
              "      <td>1003</td>\n",
              "      <td>1005</td>\n",
              "      <td>19</td>\n",
              "      <td>19</td>\n",
              "      <td>11459</td>\n",
              "      <td>1</td>\n",
              "      <td>5873</td>\n",
              "      <td>5</td>\n",
              "    </tr>\n",
              "    <tr>\n",
              "      <th>4</th>\n",
              "      <td>7</td>\n",
              "      <td>1004</td>\n",
              "      <td>1007</td>\n",
              "      <td>10</td>\n",
              "      <td>10</td>\n",
              "      <td>8391</td>\n",
              "      <td>1</td>\n",
              "      <td>2200</td>\n",
              "      <td>5</td>\n",
              "    </tr>\n",
              "    <tr>\n",
              "      <th>...</th>\n",
              "      <td>...</td>\n",
              "      <td>...</td>\n",
              "      <td>...</td>\n",
              "      <td>...</td>\n",
              "      <td>...</td>\n",
              "      <td>...</td>\n",
              "      <td>...</td>\n",
              "      <td>...</td>\n",
              "      <td>...</td>\n",
              "    </tr>\n",
              "    <tr>\n",
              "      <th>23233</th>\n",
              "      <td>23594</td>\n",
              "      <td>6059</td>\n",
              "      <td>8117</td>\n",
              "      <td>20</td>\n",
              "      <td>20</td>\n",
              "      <td>15038</td>\n",
              "      <td>16</td>\n",
              "      <td>1</td>\n",
              "      <td>26</td>\n",
              "    </tr>\n",
              "    <tr>\n",
              "      <th>23234</th>\n",
              "      <td>23595</td>\n",
              "      <td>6060</td>\n",
              "      <td>8119</td>\n",
              "      <td>13</td>\n",
              "      <td>13</td>\n",
              "      <td>12144</td>\n",
              "      <td>16</td>\n",
              "      <td>1</td>\n",
              "      <td>26</td>\n",
              "    </tr>\n",
              "    <tr>\n",
              "      <th>23235</th>\n",
              "      <td>23596</td>\n",
              "      <td>6061</td>\n",
              "      <td>8121</td>\n",
              "      <td>6</td>\n",
              "      <td>6</td>\n",
              "      <td>2567</td>\n",
              "      <td>16</td>\n",
              "      <td>1</td>\n",
              "      <td>26</td>\n",
              "    </tr>\n",
              "    <tr>\n",
              "      <th>23236</th>\n",
              "      <td>23597</td>\n",
              "      <td>6062</td>\n",
              "      <td>8123</td>\n",
              "      <td>109</td>\n",
              "      <td>109</td>\n",
              "      <td>112695</td>\n",
              "      <td>16</td>\n",
              "      <td>5</td>\n",
              "      <td>26</td>\n",
              "    </tr>\n",
              "    <tr>\n",
              "      <th>23237</th>\n",
              "      <td>23598</td>\n",
              "      <td>6063</td>\n",
              "      <td>8125</td>\n",
              "      <td>14</td>\n",
              "      <td>14</td>\n",
              "      <td>4481</td>\n",
              "      <td>16</td>\n",
              "      <td>0</td>\n",
              "      <td>26</td>\n",
              "    </tr>\n",
              "  </tbody>\n",
              "</table>\n",
              "<p>23238 rows × 9 columns</p>\n",
              "</div>"
            ],
            "text/plain": [
              "       County2012Id  CountyNumber  FipsCode  ...  SourceOrder  Votes  Party\n",
              "0                 2          2001      2000  ...            1  91696      5\n",
              "1                 4          1001      1001  ...            1   6354      5\n",
              "2                 5          1002      1003  ...            1  18329      5\n",
              "3                 6          1003      1005  ...            1   5873      5\n",
              "4                 7          1004      1007  ...            1   2200      5\n",
              "...             ...           ...       ...  ...          ...    ...    ...\n",
              "23233         23594          6059      8117  ...           16      1     26\n",
              "23234         23595          6060      8119  ...           16      1     26\n",
              "23235         23596          6061      8121  ...           16      1     26\n",
              "23236         23597          6062      8123  ...           16      5     26\n",
              "23237         23598          6063      8125  ...           16      0     26\n",
              "\n",
              "[23238 rows x 9 columns]"
            ]
          },
          "metadata": {
            "tags": []
          },
          "execution_count": 9
        }
      ]
    },
    {
      "cell_type": "code",
      "metadata": {
        "id": "l_8y4w3yfTtU",
        "colab": {
          "base_uri": "https://localhost:8080/"
        },
        "outputId": "dc873040-1355-4af2-8445-f6cc6354540a"
      },
      "source": [
        "# Import train_test_split function\n",
        "from sklearn.model_selection import train_test_split\n",
        "\n",
        "# Split dataset into training set and test set\n",
        "X_train, X_test, y_train, y_test = train_test_split(df1, df1['Party'], test_size=0.3) # 70% training and 30% test\n",
        "print(y_test)"
      ],
      "execution_count": null,
      "outputs": [
        {
          "output_type": "stream",
          "text": [
            "18551     3\n",
            "2777      5\n",
            "6629      6\n",
            "10630    14\n",
            "73        5\n",
            "         ..\n",
            "5644      6\n",
            "22418    21\n",
            "17024     9\n",
            "13439    14\n",
            "5900      6\n",
            "Name: Party, Length: 6972, dtype: int64\n"
          ],
          "name": "stdout"
        }
      ]
    },
    {
      "cell_type": "code",
      "metadata": {
        "id": "SFQLM7_GhBUo",
        "colab": {
          "base_uri": "https://localhost:8080/"
        },
        "outputId": "4b192e6d-a0da-4f99-a443-3b85f6764df4"
      },
      "source": [
        "#Import knearest neighbors Classifier model\n",
        "from sklearn.neighbors import KNeighborsClassifier\n",
        "\n",
        "#Create KNN Classifier\n",
        "for i in range(1,21):\n",
        "  knn = KNeighborsClassifier(n_neighbors=i)\n",
        "\n",
        "  #Train the model using the training sets\n",
        "  knn.fit(X_train, y_train)\n",
        "\n",
        "  #Predict the response for test dataset\n",
        "  y_pred = knn.predict(X_test)\n",
        "\n",
        "  #Import scikit-learn metrics module for accuracy calculation\n",
        "  from sklearn.metrics import precision_score, recall_score, f1_score\n",
        "  # Model Accuracy, how often is the classifier correct?\n",
        "  print(\"For neighbor:\",i)\n",
        "  print(\"Accuracy:\",metrics.accuracy_score(y_test, y_pred)*100)\n",
        "  print(\"Precision:\",precision_score(y_test, y_pred,average='macro')*100)\n",
        "  print(\"Recall:\",recall_score(y_test, y_pred,average='macro')*100) \n",
        "  print(\"--------------------------------------------------------------\")   "
      ],
      "execution_count": null,
      "outputs": [
        {
          "output_type": "stream",
          "text": [
            "For neighbor: 1\n",
            "Accuracy: 86.02983362019506\n",
            "Precision: 70.37614864329613\n",
            "Recall: 68.10953105377824\n",
            "--------------------------------------------------------------\n",
            "For neighbor: 2\n",
            "Accuracy: 84.03614457831326\n",
            "Precision: 72.26275853810236\n",
            "Recall: 63.161112431909515\n",
            "--------------------------------------------------------------\n",
            "For neighbor: 3\n",
            "Accuracy: 83.1181870338497\n",
            "Precision: 70.6781571437377\n",
            "Recall: 62.37729713895792\n",
            "--------------------------------------------------------------\n",
            "For neighbor: 4\n",
            "Accuracy: 81.74125071715433\n",
            "Precision: 67.64749823829828\n",
            "Recall: 59.232083193376624\n",
            "--------------------------------------------------------------\n",
            "For neighbor: 5\n",
            "Accuracy: 81.03843947217442\n",
            "Precision: 68.29981414804374\n",
            "Recall: 58.92693991046001\n",
            "--------------------------------------------------------------\n",
            "For neighbor: 6\n",
            "Accuracy: 80.06310958118186\n",
            "Precision: 66.15059013620895\n",
            "Recall: 56.916150450337376\n",
            "--------------------------------------------------------------\n",
            "For neighbor: 7\n",
            "Accuracy: 79.41767068273093\n",
            "Precision: 65.19482137510015\n",
            "Recall: 57.07443599586682\n",
            "--------------------------------------------------------------\n",
            "For neighbor: 8\n",
            "Accuracy: 78.5857716580608\n",
            "Precision: 61.38800815521355\n",
            "Recall: 54.526686804218485\n",
            "--------------------------------------------------------------\n"
          ],
          "name": "stdout"
        },
        {
          "output_type": "stream",
          "text": [
            "/usr/local/lib/python3.7/dist-packages/sklearn/metrics/_classification.py:1272: UndefinedMetricWarning: Precision is ill-defined and being set to 0.0 in labels with no predicted samples. Use `zero_division` parameter to control this behavior.\n",
            "  _warn_prf(average, modifier, msg_start, len(result))\n"
          ],
          "name": "stderr"
        },
        {
          "output_type": "stream",
          "text": [
            "For neighbor: 9\n",
            "Accuracy: 78.12679288582903\n",
            "Precision: 60.30133220033838\n",
            "Recall: 53.44558800521184\n",
            "--------------------------------------------------------------\n"
          ],
          "name": "stdout"
        },
        {
          "output_type": "stream",
          "text": [
            "/usr/local/lib/python3.7/dist-packages/sklearn/metrics/_classification.py:1272: UndefinedMetricWarning: Precision is ill-defined and being set to 0.0 in labels with no predicted samples. Use `zero_division` parameter to control this behavior.\n",
            "  _warn_prf(average, modifier, msg_start, len(result))\n"
          ],
          "name": "stderr"
        },
        {
          "output_type": "stream",
          "text": [
            "For neighbor: 10\n",
            "Accuracy: 77.89730349971313\n",
            "Precision: 58.709224109330236\n",
            "Recall: 51.96199668145185\n",
            "--------------------------------------------------------------\n"
          ],
          "name": "stdout"
        },
        {
          "output_type": "stream",
          "text": [
            "/usr/local/lib/python3.7/dist-packages/sklearn/metrics/_classification.py:1272: UndefinedMetricWarning: Precision is ill-defined and being set to 0.0 in labels with no predicted samples. Use `zero_division` parameter to control this behavior.\n",
            "  _warn_prf(average, modifier, msg_start, len(result))\n"
          ],
          "name": "stderr"
        },
        {
          "output_type": "stream",
          "text": [
            "For neighbor: 11\n",
            "Accuracy: 77.35226620768789\n",
            "Precision: 58.71482183996787\n",
            "Recall: 50.75717941708262\n",
            "--------------------------------------------------------------\n"
          ],
          "name": "stdout"
        },
        {
          "output_type": "stream",
          "text": [
            "/usr/local/lib/python3.7/dist-packages/sklearn/metrics/_classification.py:1272: UndefinedMetricWarning: Precision is ill-defined and being set to 0.0 in labels with no predicted samples. Use `zero_division` parameter to control this behavior.\n",
            "  _warn_prf(average, modifier, msg_start, len(result))\n"
          ],
          "name": "stderr"
        },
        {
          "output_type": "stream",
          "text": [
            "For neighbor: 12\n",
            "Accuracy: 76.87894434882386\n",
            "Precision: 58.34635463026311\n",
            "Recall: 49.37618883120376\n",
            "--------------------------------------------------------------\n"
          ],
          "name": "stdout"
        },
        {
          "output_type": "stream",
          "text": [
            "/usr/local/lib/python3.7/dist-packages/sklearn/metrics/_classification.py:1272: UndefinedMetricWarning: Precision is ill-defined and being set to 0.0 in labels with no predicted samples. Use `zero_division` parameter to control this behavior.\n",
            "  _warn_prf(average, modifier, msg_start, len(result))\n"
          ],
          "name": "stderr"
        },
        {
          "output_type": "stream",
          "text": [
            "For neighbor: 13\n",
            "Accuracy: 76.1617900172117\n",
            "Precision: 56.847933487528536\n",
            "Recall: 46.15438551603657\n",
            "--------------------------------------------------------------\n"
          ],
          "name": "stdout"
        },
        {
          "output_type": "stream",
          "text": [
            "/usr/local/lib/python3.7/dist-packages/sklearn/metrics/_classification.py:1272: UndefinedMetricWarning: Precision is ill-defined and being set to 0.0 in labels with no predicted samples. Use `zero_division` parameter to control this behavior.\n",
            "  _warn_prf(average, modifier, msg_start, len(result))\n"
          ],
          "name": "stderr"
        },
        {
          "output_type": "stream",
          "text": [
            "For neighbor: 14\n",
            "Accuracy: 75.78886976477338\n",
            "Precision: 51.77043720505483\n",
            "Recall: 42.92118981443706\n",
            "--------------------------------------------------------------\n"
          ],
          "name": "stdout"
        },
        {
          "output_type": "stream",
          "text": [
            "/usr/local/lib/python3.7/dist-packages/sklearn/metrics/_classification.py:1272: UndefinedMetricWarning: Precision is ill-defined and being set to 0.0 in labels with no predicted samples. Use `zero_division` parameter to control this behavior.\n",
            "  _warn_prf(average, modifier, msg_start, len(result))\n"
          ],
          "name": "stderr"
        },
        {
          "output_type": "stream",
          "text": [
            "For neighbor: 15\n",
            "Accuracy: 75.44463568559954\n",
            "Precision: 52.898631062248704\n",
            "Recall: 42.49851730693647\n",
            "--------------------------------------------------------------\n"
          ],
          "name": "stdout"
        },
        {
          "output_type": "stream",
          "text": [
            "/usr/local/lib/python3.7/dist-packages/sklearn/metrics/_classification.py:1272: UndefinedMetricWarning: Precision is ill-defined and being set to 0.0 in labels with no predicted samples. Use `zero_division` parameter to control this behavior.\n",
            "  _warn_prf(average, modifier, msg_start, len(result))\n"
          ],
          "name": "stderr"
        },
        {
          "output_type": "stream",
          "text": [
            "For neighbor: 16\n",
            "Accuracy: 75.08605851979347\n",
            "Precision: 53.97232852715131\n",
            "Recall: 42.0675950796371\n",
            "--------------------------------------------------------------\n"
          ],
          "name": "stdout"
        },
        {
          "output_type": "stream",
          "text": [
            "/usr/local/lib/python3.7/dist-packages/sklearn/metrics/_classification.py:1272: UndefinedMetricWarning: Precision is ill-defined and being set to 0.0 in labels with no predicted samples. Use `zero_division` parameter to control this behavior.\n",
            "  _warn_prf(average, modifier, msg_start, len(result))\n"
          ],
          "name": "stderr"
        },
        {
          "output_type": "stream",
          "text": [
            "For neighbor: 17\n",
            "Accuracy: 74.59839357429718\n",
            "Precision: 53.09197890744943\n",
            "Recall: 41.57486267061991\n",
            "--------------------------------------------------------------\n"
          ],
          "name": "stdout"
        },
        {
          "output_type": "stream",
          "text": [
            "/usr/local/lib/python3.7/dist-packages/sklearn/metrics/_classification.py:1272: UndefinedMetricWarning: Precision is ill-defined and being set to 0.0 in labels with no predicted samples. Use `zero_division` parameter to control this behavior.\n",
            "  _warn_prf(average, modifier, msg_start, len(result))\n"
          ],
          "name": "stderr"
        },
        {
          "output_type": "stream",
          "text": [
            "For neighbor: 18\n",
            "Accuracy: 74.72748135398739\n",
            "Precision: 52.14272902384711\n",
            "Recall: 41.824673500441776\n",
            "--------------------------------------------------------------\n"
          ],
          "name": "stdout"
        },
        {
          "output_type": "stream",
          "text": [
            "/usr/local/lib/python3.7/dist-packages/sklearn/metrics/_classification.py:1272: UndefinedMetricWarning: Precision is ill-defined and being set to 0.0 in labels with no predicted samples. Use `zero_division` parameter to control this behavior.\n",
            "  _warn_prf(average, modifier, msg_start, len(result))\n"
          ],
          "name": "stderr"
        },
        {
          "output_type": "stream",
          "text": [
            "For neighbor: 19\n",
            "Accuracy: 74.64142283419392\n",
            "Precision: 50.22976376325179\n",
            "Recall: 41.17521235870913\n",
            "--------------------------------------------------------------\n"
          ],
          "name": "stdout"
        },
        {
          "output_type": "stream",
          "text": [
            "/usr/local/lib/python3.7/dist-packages/sklearn/metrics/_classification.py:1272: UndefinedMetricWarning: Precision is ill-defined and being set to 0.0 in labels with no predicted samples. Use `zero_division` parameter to control this behavior.\n",
            "  _warn_prf(average, modifier, msg_start, len(result))\n"
          ],
          "name": "stderr"
        },
        {
          "output_type": "stream",
          "text": [
            "For neighbor: 20\n",
            "Accuracy: 74.18244406196214\n",
            "Precision: 50.4953718263943\n",
            "Recall: 40.98123925948693\n",
            "--------------------------------------------------------------\n"
          ],
          "name": "stdout"
        },
        {
          "output_type": "stream",
          "text": [
            "/usr/local/lib/python3.7/dist-packages/sklearn/metrics/_classification.py:1272: UndefinedMetricWarning: Precision is ill-defined and being set to 0.0 in labels with no predicted samples. Use `zero_division` parameter to control this behavior.\n",
            "  _warn_prf(average, modifier, msg_start, len(result))\n"
          ],
          "name": "stderr"
        }
      ]
    },
    {
      "cell_type": "code",
      "metadata": {
        "id": "_9oq6LE3vym-"
      },
      "source": [
        "''' My Conclusion for KNN:\n",
        "    I can conclude from this that with increasing value of K the accuracy,precision and recall decreases. \n",
        "    Hence for increasing value of K, it might fall into the other class of classification. Hence it can be\n",
        "    said that increasing value of K the algorithm is not able to decide where to classify the points at the\n",
        "    border of two clusters'''"
      ],
      "execution_count": null,
      "outputs": []
    },
    {
      "cell_type": "code",
      "metadata": {
        "id": "1nGodkix4BBr"
      },
      "source": [
        "from sklearn.ensemble import RandomForestRegressor"
      ],
      "execution_count": null,
      "outputs": []
    },
    {
      "cell_type": "code",
      "metadata": {
        "colab": {
          "base_uri": "https://localhost:8080/"
        },
        "id": "tPib_UEaF0gP",
        "outputId": "785e6d51-24c3-43db-8fcc-dc57fd619501"
      },
      "source": [
        "rf=RandomForestRegressor(n_estimators=1000,random_state=42)\n",
        "rf.fit(X_train,y_train)\n",
        "\n",
        "\n",
        "predictions=rf.predict(X_test)\n",
        "\n",
        "errors=abs(predictions-y_test)\n",
        "errors"
      ],
      "execution_count": null,
      "outputs": [
        {
          "output_type": "execute_result",
          "data": {
            "text/plain": [
              "18551    0.0\n",
              "2777     0.0\n",
              "6629     0.0\n",
              "10630    0.0\n",
              "73       0.0\n",
              "        ... \n",
              "5644     0.0\n",
              "22418    0.0\n",
              "17024    0.0\n",
              "13439    0.0\n",
              "5900     0.0\n",
              "Name: Party, Length: 6972, dtype: float64"
            ]
          },
          "metadata": {
            "tags": []
          },
          "execution_count": 13
        }
      ]
    },
    {
      "cell_type": "code",
      "metadata": {
        "id": "_dKOcbezGYpa",
        "colab": {
          "base_uri": "https://localhost:8080/"
        },
        "outputId": "f7f61eab-9f9f-4a3a-e192-f166e384afb5"
      },
      "source": [
        "#Mean absolute percentage error\n",
        "mape=100*(errors/y_test)\n",
        "\n",
        "mean_error=np.mean(mape)\n",
        "mean_error"
      ],
      "execution_count": null,
      "outputs": [
        {
          "output_type": "execute_result",
          "data": {
            "text/plain": [
              "0.0007275670745037741"
            ]
          },
          "metadata": {
            "tags": []
          },
          "execution_count": 14
        }
      ]
    },
    {
      "cell_type": "code",
      "metadata": {
        "id": "djaV7erxGa0y",
        "colab": {
          "base_uri": "https://localhost:8080/"
        },
        "outputId": "3260a565-c412-43fc-919c-9ac703a8a739"
      },
      "source": [
        "\n",
        "accuracy=100-mean_error\n",
        "accuracy"
      ],
      "execution_count": null,
      "outputs": [
        {
          "output_type": "execute_result",
          "data": {
            "text/plain": [
              "99.9992724329255"
            ]
          },
          "metadata": {
            "tags": []
          },
          "execution_count": 15
        }
      ]
    },
    {
      "cell_type": "code",
      "metadata": {
        "id": "2WTrbF0qGftp"
      },
      "source": [
        "from sklearn.tree import export_graphviz\n",
        "import pydot"
      ],
      "execution_count": null,
      "outputs": []
    },
    {
      "cell_type": "code",
      "metadata": {
        "id": "8urlX8RPGhr7",
        "colab": {
          "base_uri": "https://localhost:8080/"
        },
        "outputId": "e227b838-a3cc-41ff-d58b-b5227a2bf7dd"
      },
      "source": [
        "print(\"Accuracy:\",metrics.accuracy_score(y_test, y_pred)*100)\n",
        "tree=rf.estimators_[5]\n",
        "feature_list=list(df1.columns)\n",
        "export_graphviz(tree,out_file='tree.dot',feature_names=feature_list,rounded=True,precision=1)\n",
        "(graph,)=pydot.graph_from_dot_file('tree.dot')\n",
        "graph.write_png('tree.png')"
      ],
      "execution_count": null,
      "outputs": [
        {
          "output_type": "stream",
          "text": [
            "Accuracy: 74.18244406196214\n"
          ],
          "name": "stdout"
        }
      ]
    },
    {
      "cell_type": "code",
      "metadata": {
        "id": "2E8Vp3W65EqG"
      },
      "source": [
        "'''My Conclusion:\n",
        "   It can be concluded that the accuracy of the model is appropriate. But is still less than KNN. '''"
      ],
      "execution_count": null,
      "outputs": []
    },
    {
      "cell_type": "code",
      "metadata": {
        "id": "bLHdNOFwFZfV"
      },
      "source": [
        "#K-Means Clustering"
      ],
      "execution_count": null,
      "outputs": []
    },
    {
      "cell_type": "code",
      "metadata": {
        "id": "1PMGdPDb3cRE"
      },
      "source": [
        "from sklearn.cluster import KMeans"
      ],
      "execution_count": null,
      "outputs": []
    },
    {
      "cell_type": "code",
      "metadata": {
        "id": "PQKLTuXFA4co",
        "colab": {
          "base_uri": "https://localhost:8080/",
          "height": 295
        },
        "outputId": "a49259bf-a13c-4bf8-cc02-584a3a4ef76c"
      },
      "source": [
        "x=np.array(df1)\n",
        "wcss=[] #Within Clusters Sum of Squares\n",
        "for i in range(1,10):\n",
        "  kmeans=KMeans(n_clusters=i,init='k-means++',random_state=0)\n",
        "  kmeans.fit(x)\n",
        "  wcss.append(kmeans.inertia_)\n",
        "plt.plot(range(1,10),wcss)\n",
        "plt.title('KMeans elbow graph')\n",
        "plt.ylabel('WCSS')\n",
        "plt.xlabel('# of clsuter')\n",
        "plt.show()"
      ],
      "execution_count": null,
      "outputs": [
        {
          "output_type": "display_data",
          "data": {
            "image/png": "[encoded data removed]",
            "text/plain": [
              "<Figure size 432x288 with 1 Axes>"
            ]
          },
          "metadata": {
            "tags": [],
            "needs_background": "light"
          }
        }
      ]
    },
    {
      "cell_type": "code",
      "metadata": {
        "id": "RvhGXkPsDqB2",
        "colab": {
          "base_uri": "https://localhost:8080/"
        },
        "outputId": "53dcdc8d-3911-4342-ed25-b460d8a33834"
      },
      "source": [
        "kmeans = KMeans(n_clusters=5,init='k-means++',random_state=0)\n",
        "y_kmeans=kmeans.fit_predict(x)\n",
        "y_kmeans"
      ],
      "execution_count": null,
      "outputs": [
        {
          "output_type": "execute_result",
          "data": {
            "text/plain": [
              "array([4, 1, 0, ..., 1, 0, 1], dtype=int32)"
            ]
          },
          "metadata": {
            "tags": []
          },
          "execution_count": 48
        }
      ]
    },
    {
      "cell_type": "code",
      "metadata": {
        "id": "aQkbGm-3EE1z",
        "colab": {
          "base_uri": "https://localhost:8080/",
          "height": 295
        },
        "outputId": "b1b81695-2bc9-44b9-a2bc-0fada0d7956d"
      },
      "source": [
        "#Visualize the cluster\n",
        "\n",
        "plt.scatter(x[y_kmeans==0,7],x[y_kmeans==0,4],s=50,c='red',label='Cluster-1')\n",
        "plt.scatter(x[y_kmeans==1,7],x[y_kmeans==1,4],s=50,c='blue',label='Cluster-2')\n",
        "plt.scatter(x[y_kmeans==2,7],x[y_kmeans==2,4],s=50,c='green',label='Cluster-3')\n",
        "plt.scatter(x[y_kmeans==3,7],x[y_kmeans==3,4],s=50,c='yellow',label='Cluster-4')\n",
        "plt.scatter(x[y_kmeans==4,7],x[y_kmeans==4,4],s=50,c='magenta',label='Cluster-5')\n",
        "plt.scatter(kmeans.cluster_centers_[:,7],kmeans.cluster_centers_[:,3],s=200,c='cyan',label='Centroids')\n",
        "\n",
        "plt.title('K-Means Clustering')\n",
        "plt.xlabel('Votes')\n",
        "plt.ylabel('Percints Reporting')\n",
        "plt.legend()\n",
        "plt.show()"
      ],
      "execution_count": null,
      "outputs": [
        {
          "output_type": "display_data",
          "data": {
            "image/png": "[encoded data removed]",
            "text/plain": [
              "<Figure size 432x288 with 1 Axes>"
            ]
          },
          "metadata": {
            "tags": [],
            "needs_background": "light"
          }
        }
      ]
    },
    {
      "cell_type": "code",
      "metadata": {
        "id": "AKmGooBRGPfg"
      },
      "source": [
        "#Hierarchical Clustering"
      ],
      "execution_count": null,
      "outputs": []
    },
    {
      "cell_type": "code",
      "metadata": {
        "id": "vbYephbOGTfW"
      },
      "source": [
        "import scipy.cluster.hierarchy as sch"
      ],
      "execution_count": null,
      "outputs": []
    },
    {
      "cell_type": "code",
      "metadata": {
        "colab": {
          "base_uri": "https://localhost:8080/",
          "height": 282
        },
        "id": "AkreZbyfGcoe",
        "outputId": "081557bb-cad6-4744-fa64-ea342446a15a"
      },
      "source": [
        "dendrogram = sch.dendrogram(sch.linkage(df1,method='ward'))"
      ],
      "execution_count": null,
      "outputs": [
        {
          "output_type": "display_data",
          "data": {
            "image/png": "[encoded data removed]",
            "text/plain": [
              "<Figure size 432x288 with 1 Axes>"
            ]
          },
          "metadata": {
            "tags": [],
            "needs_background": "light"
          }
        }
      ]
    },
    {
      "cell_type": "code",
      "metadata": {
        "id": "eiFZ6_PjKiS6"
      },
      "source": [
        ""
      ],
      "execution_count": null,
      "outputs": []
    },
    {
      "cell_type": "code",
      "metadata": {
        "id": "NcW9xaWU9qbQ"
      },
      "source": [
        "from sklearn.cluster import AgglomerativeClustering"
      ],
      "execution_count": null,
      "outputs": []
    },
    {
      "cell_type": "code",
      "metadata": {
        "id": "UEQRI5Q5-Ac6"
      },
      "source": [
        "hc=AgglomerativeClustering(n_clusters=5,affinity='euclidean',linkage='ward')"
      ],
      "execution_count": null,
      "outputs": []
    },
    {
      "cell_type": "code",
      "metadata": {
        "id": "bsowTpG2-6sD"
      },
      "source": [
        "y_hc = hc.fit_predict(df1)"
      ],
      "execution_count": null,
      "outputs": []
    },
    {
      "cell_type": "code",
      "metadata": {
        "colab": {
          "base_uri": "https://localhost:8080/"
        },
        "id": "eEIMsE1I_CB8",
        "outputId": "405c31fa-9a83-4751-bc10-7dec47cae4eb"
      },
      "source": [
        "print(y_hc)"
      ],
      "execution_count": null,
      "outputs": [
        {
          "output_type": "stream",
          "text": [
            "[2 0 2 ... 0 0 0]\n"
          ],
          "name": "stdout"
        }
      ]
    },
    {
      "cell_type": "code",
      "metadata": {
        "colab": {
          "base_uri": "https://localhost:8080/",
          "height": 295
        },
        "id": "m3TDuljx_W6G",
        "outputId": "9a5f02a9-1005-4e0f-c0a8-1e1250902263"
      },
      "source": [
        "#Visualize the cluster\n",
        "X=df1.values\n",
        "plt.scatter(X[y_hc==0,7],X[y_hc==0,3],s=50,c='red',label='Cluster-1')\n",
        "plt.scatter(X[y_hc==1,7],X[y_hc==1,3],s=50,c='blue',label='Cluster-2')\n",
        "plt.scatter(X[y_hc==2,7],X[y_hc==2,3],s=50,c='green',label='Cluster-3')\n",
        "plt.scatter(X[y_hc==3,7],X[y_hc==3,3],s=50,c='yellow',label='Cluster-4')\n",
        "plt.scatter(X[y_hc==4,7],X[y_hc==4,3],s=50,c='magenta',label='Cluster-5')\n",
        "\n",
        "plt.title('Hierarchical Clustering')\n",
        "plt.xlabel('Votes')\n",
        "plt.ylabel('Percints Reporting')\n",
        "plt.legend()\n",
        "plt.show()"
      ],
      "execution_count": null,
      "outputs": [
        {
          "output_type": "display_data",
          "data": {
            "image/png": "[encoded data removed]",
            "text/plain": [
              "<Figure size 432x288 with 1 Axes>"
            ]
          },
          "metadata": {
            "tags": [],
            "needs_background": "light"
          }
        }
      ]
    },
    {
      "cell_type": "code",
      "metadata": {
        "id": "-SZQnj0EO_tl"
      },
      "source": [
        "#DBSCAN"
      ],
      "execution_count": null,
      "outputs": []
    },
    {
      "cell_type": "code",
      "metadata": {
        "id": "hWd2zbgxPBuH"
      },
      "source": [
        "from sklearn.cluster import DBSCAN\n",
        "from sklearn import metrics\n",
        "from sklearn.preprocessing import StandardScaler\n",
        "from sklearn.neighbors import NearestNeighbors\n",
        "import numpy as np\n",
        "import matplotlib.pyplot as plt\n",
        "import pandas as pd"
      ],
      "execution_count": null,
      "outputs": []
    },
    {
      "cell_type": "code",
      "metadata": {
        "colab": {
          "base_uri": "https://localhost:8080/"
        },
        "id": "3-RQSmSdPFPQ",
        "outputId": "5d3da9d4-2838-49b1-f163-6eca5a0fba03"
      },
      "source": [
        "\n",
        "X=df1.iloc[0:2000, : ]\n",
        "X=StandardScaler().fit_transform(X)\n",
        "ns=5\n",
        "nearestneighbours=NearestNeighbors(5).fit(X)\n",
        "nearestneighbours"
      ],
      "execution_count": null,
      "outputs": [
        {
          "output_type": "execute_result",
          "data": {
            "text/plain": [
              "NearestNeighbors(algorithm='auto', leaf_size=30, metric='minkowski',\n",
              "                 metric_params=None, n_jobs=None, n_neighbors=5, p=2,\n",
              "                 radius=1.0)"
            ]
          },
          "metadata": {
            "tags": []
          },
          "execution_count": 145
        }
      ]
    },
    {
      "cell_type": "code",
      "metadata": {
        "colab": {
          "base_uri": "https://localhost:8080/"
        },
        "id": "NUFJGGCSPT3L",
        "outputId": "fd1cab68-b821-4fab-aa5e-851337e81dfb"
      },
      "source": [
        "distances, indices = nearestneighbours.kneighbors(X)\n",
        "indices\n"
      ],
      "execution_count": null,
      "outputs": [
        {
          "output_type": "execute_result",
          "data": {
            "text/plain": [
              "array([[   0,  206,  196,  207,  198],\n",
              "       [   1,    5,   16,   23,   17],\n",
              "       [   2,   59,   63,   41,   52],\n",
              "       ...,\n",
              "       [1997, 1962, 1945, 1932, 1923],\n",
              "       [1998, 1992, 1999, 1991, 1963],\n",
              "       [1999, 1992, 1985, 1974, 1998]])"
            ]
          },
          "metadata": {
            "tags": []
          },
          "execution_count": 146
        }
      ]
    },
    {
      "cell_type": "code",
      "metadata": {
        "colab": {
          "base_uri": "https://localhost:8080/"
        },
        "id": "88sRHW8NPfGq",
        "outputId": "761e2220-df45-4470-8bd4-19879bcd6724"
      },
      "source": [
        "distanceDec = sorted(distances[:,ns-1], reverse=True)\n",
        "distances"
      ],
      "execution_count": null,
      "outputs": [
        {
          "output_type": "execute_result",
          "data": {
            "text/plain": [
              "array([[0.        , 0.82569372, 0.83492814, 0.9973306 , 1.07679072],\n",
              "       [0.        , 0.05371108, 0.06833329, 0.07437419, 0.0907822 ],\n",
              "       [0.        , 0.19747228, 0.24633222, 0.32202945, 0.35107505],\n",
              "       ...,\n",
              "       [0.        , 0.10142701, 0.10959292, 0.11392966, 0.14317789],\n",
              "       [0.        , 0.05421388, 0.06036656, 0.07069277, 0.0768125 ],\n",
              "       [0.        , 0.04252907, 0.05270996, 0.05591189, 0.06036656]])"
            ]
          },
          "metadata": {
            "tags": []
          },
          "execution_count": 147
        }
      ]
    },
    {
      "cell_type": "code",
      "metadata": {
        "colab": {
          "base_uri": "https://localhost:8080/",
          "height": 282
        },
        "id": "3gccDmy1PoDe",
        "outputId": "48b716cd-115c-4f14-ba0e-f962e5f22f2c"
      },
      "source": [
        "plt.plot(indices[:,0], distanceDec)"
      ],
      "execution_count": null,
      "outputs": [
        {
          "output_type": "execute_result",
          "data": {
            "text/plain": [
              "[<matplotlib.lines.Line2D at 0x7f8d61aecd90>]"
            ]
          },
          "metadata": {
            "tags": []
          },
          "execution_count": 148
        },
        {
          "output_type": "display_data",
          "data": {
            "image/png": "[encoded data removed]",
            "text/plain": [
              "<Figure size 432x288 with 1 Axes>"
            ]
          },
          "metadata": {
            "tags": [],
            "needs_background": "light"
          }
        }
      ]
    },
    {
      "cell_type": "code",
      "metadata": {
        "id": "q1ym05NwQHiw"
      },
      "source": [
        "db=DBSCAN(eps=0.4,min_samples=5).fit(X)"
      ],
      "execution_count": null,
      "outputs": []
    },
    {
      "cell_type": "code",
      "metadata": {
        "colab": {
          "base_uri": "https://localhost:8080/"
        },
        "id": "BQKf1eGtVbSP",
        "outputId": "83325d73-2ab6-4a3d-c135-6d96f88ca9da"
      },
      "source": [
        "labels = db.labels_\n",
        "db.labels_"
      ],
      "execution_count": null,
      "outputs": [
        {
          "output_type": "execute_result",
          "data": {
            "text/plain": [
              "array([ -1,   0,   0, ..., 165,  -1, 165])"
            ]
          },
          "metadata": {
            "tags": []
          },
          "execution_count": 84
        }
      ]
    },
    {
      "cell_type": "code",
      "metadata": {
        "colab": {
          "base_uri": "https://localhost:8080/"
        },
        "id": "JshcJPOGVsIf",
        "outputId": "c70ae34b-5d21-4b05-a06b-4efe804277d7"
      },
      "source": [
        "db.core_sample_indices_   #Finds core samples of high density and expands clusters from them. Good for data which contains clusters of similar density."
      ],
      "execution_count": null,
      "outputs": [
        {
          "output_type": "execute_result",
          "data": {
            "text/plain": [
              "array([    1,     2,     3, ..., 23234, 23235, 23237])"
            ]
          },
          "metadata": {
            "tags": []
          },
          "execution_count": 85
        }
      ]
    },
    {
      "cell_type": "code",
      "metadata": {
        "id": "axrwqxxPVvLU"
      },
      "source": [
        "core_samples_mask = np.zeros_like(db.labels_, dtype=bool)"
      ],
      "execution_count": null,
      "outputs": []
    },
    {
      "cell_type": "code",
      "metadata": {
        "colab": {
          "base_uri": "https://localhost:8080/"
        },
        "id": "vH2b0iZNVx1g",
        "outputId": "c33a1213-3997-4593-d0c4-2668dc126fdb"
      },
      "source": [
        "core_samples_mask"
      ],
      "execution_count": null,
      "outputs": [
        {
          "output_type": "execute_result",
          "data": {
            "text/plain": [
              "array([False, False, False, ..., False, False, False])"
            ]
          },
          "metadata": {
            "tags": []
          },
          "execution_count": 88
        }
      ]
    },
    {
      "cell_type": "code",
      "metadata": {
        "id": "GoAp0PKqV1qH"
      },
      "source": [
        "core_samples_mask[db.core_sample_indices_] = True"
      ],
      "execution_count": null,
      "outputs": []
    },
    {
      "cell_type": "code",
      "metadata": {
        "id": "VUgSghddV49a"
      },
      "source": [
        "n_clusters_ = len(set(labels)) - (1 if -1 in labels else 0)\n",
        "n_noise_ = list(labels).count(-1)"
      ],
      "execution_count": null,
      "outputs": []
    },
    {
      "cell_type": "code",
      "metadata": {
        "colab": {
          "base_uri": "https://localhost:8080/"
        },
        "id": "PAMIAj2dV71V",
        "outputId": "8a6f7166-4280-4259-9fe5-00cadde78851"
      },
      "source": [
        "\n",
        "print('Estimated number of clusters: %d' % n_clusters_)\n",
        "print('Estimated number of noise points: %d' % n_noise_)"
      ],
      "execution_count": null,
      "outputs": [
        {
          "output_type": "stream",
          "text": [
            "Estimated number of clusters: 166\n",
            "Estimated number of noise points: 1631\n"
          ],
          "name": "stdout"
        }
      ]
    },
    {
      "cell_type": "code",
      "metadata": {
        "id": "uZs9y9kqV-_Y"
      },
      "source": [
        "import matplotlib.pyplot as plt\n",
        "# Black removed and is used for noise instead.\n",
        "unique_labels = set(labels)\n",
        "colors = [plt.cm.Spectral(each)\n",
        "          for each in np.linspace(0, 1, len(unique_labels))]"
      ],
      "execution_count": null,
      "outputs": []
    },
    {
      "cell_type": "code",
      "metadata": {
        "colab": {
          "base_uri": "https://localhost:8080/"
        },
        "id": "QseAzgGJWB_E",
        "outputId": "25a56565-0aaa-417e-ad17-e2876a62b3f3"
      },
      "source": [
        "np.linspace(0, 1, len(unique_labels))"
      ],
      "execution_count": null,
      "outputs": [
        {
          "output_type": "execute_result",
          "data": {
            "text/plain": [
              "array([0.        , 0.0060241 , 0.01204819, 0.01807229, 0.02409639,\n",
              "       0.03012048, 0.03614458, 0.04216867, 0.04819277, 0.05421687,\n",
              "       0.06024096, 0.06626506, 0.07228916, 0.07831325, 0.08433735,\n",
              "       0.09036145, 0.09638554, 0.10240964, 0.10843373, 0.11445783,\n",
              "       0.12048193, 0.12650602, 0.13253012, 0.13855422, 0.14457831,\n",
              "       0.15060241, 0.15662651, 0.1626506 , 0.1686747 , 0.1746988 ,\n",
              "       0.18072289, 0.18674699, 0.19277108, 0.19879518, 0.20481928,\n",
              "       0.21084337, 0.21686747, 0.22289157, 0.22891566, 0.23493976,\n",
              "       0.24096386, 0.24698795, 0.25301205, 0.25903614, 0.26506024,\n",
              "       0.27108434, 0.27710843, 0.28313253, 0.28915663, 0.29518072,\n",
              "       0.30120482, 0.30722892, 0.31325301, 0.31927711, 0.3253012 ,\n",
              "       0.3313253 , 0.3373494 , 0.34337349, 0.34939759, 0.35542169,\n",
              "       0.36144578, 0.36746988, 0.37349398, 0.37951807, 0.38554217,\n",
              "       0.39156627, 0.39759036, 0.40361446, 0.40963855, 0.41566265,\n",
              "       0.42168675, 0.42771084, 0.43373494, 0.43975904, 0.44578313,\n",
              "       0.45180723, 0.45783133, 0.46385542, 0.46987952, 0.47590361,\n",
              "       0.48192771, 0.48795181, 0.4939759 , 0.5       , 0.5060241 ,\n",
              "       0.51204819, 0.51807229, 0.52409639, 0.53012048, 0.53614458,\n",
              "       0.54216867, 0.54819277, 0.55421687, 0.56024096, 0.56626506,\n",
              "       0.57228916, 0.57831325, 0.58433735, 0.59036145, 0.59638554,\n",
              "       0.60240964, 0.60843373, 0.61445783, 0.62048193, 0.62650602,\n",
              "       0.63253012, 0.63855422, 0.64457831, 0.65060241, 0.65662651,\n",
              "       0.6626506 , 0.6686747 , 0.6746988 , 0.68072289, 0.68674699,\n",
              "       0.69277108, 0.69879518, 0.70481928, 0.71084337, 0.71686747,\n",
              "       0.72289157, 0.72891566, 0.73493976, 0.74096386, 0.74698795,\n",
              "       0.75301205, 0.75903614, 0.76506024, 0.77108434, 0.77710843,\n",
              "       0.78313253, 0.78915663, 0.79518072, 0.80120482, 0.80722892,\n",
              "       0.81325301, 0.81927711, 0.8253012 , 0.8313253 , 0.8373494 ,\n",
              "       0.84337349, 0.84939759, 0.85542169, 0.86144578, 0.86746988,\n",
              "       0.87349398, 0.87951807, 0.88554217, 0.89156627, 0.89759036,\n",
              "       0.90361446, 0.90963855, 0.91566265, 0.92168675, 0.92771084,\n",
              "       0.93373494, 0.93975904, 0.94578313, 0.95180723, 0.95783133,\n",
              "       0.96385542, 0.96987952, 0.97590361, 0.98192771, 0.98795181,\n",
              "       0.9939759 , 1.        ])"
            ]
          },
          "metadata": {
            "tags": []
          },
          "execution_count": 93
        }
      ]
    },
    {
      "cell_type": "code",
      "metadata": {
        "colab": {
          "base_uri": "https://localhost:8080/",
          "height": 281
        },
        "id": "32u0ZDZPWEo5",
        "outputId": "516db4e1-7508-4303-d098-248f6d74d38e"
      },
      "source": [
        "for k, col in zip(unique_labels, colors):\n",
        "    if k == -1:\n",
        "        # Black used for noise.\n",
        "        col = [0, 0, 0, 1]\n",
        "\n",
        "    class_member_mask = (labels == k)          #noise point will be true else it will be false\n",
        "\n",
        "    xy = X[class_member_mask & core_samples_mask]                             #core sample and not noise sample\n",
        "    plt.plot(xy[:, 0], xy[:, 1], 'o', markerfacecolor=tuple(col),\n",
        "             markeredgecolor='k', markersize=14)\n",
        "\n",
        "    xy = X[class_member_mask & ~core_samples_mask]                            #not core sample i.e boundary samples and not noise sample\n",
        "    plt.plot(xy[:, 0], xy[:, 1], 'o', markerfacecolor=tuple(col),\n",
        "             markeredgecolor='k', markersize=6)\n",
        "\n",
        "plt.title('Estimated number of clusters: %d' % n_clusters_)\n",
        "plt.show()\n"
      ],
      "execution_count": null,
      "outputs": [
        {
          "output_type": "display_data",
          "data": {
            "image/png": "[encoded data removed]",
            "text/plain": [
              "<Figure size 432x288 with 1 Axes>"
            ]
          },
          "metadata": {
            "tags": [],
            "needs_background": "light"
          }
        }
      ]
    },
    {
      "cell_type": "code",
      "metadata": {
        "colab": {
          "base_uri": "https://localhost:8080/"
        },
        "id": "7DVcXC1HWJC_",
        "outputId": "7f93f45e-c289-405f-a9c5-41f7da74443a"
      },
      "source": [
        "labels"
      ],
      "execution_count": null,
      "outputs": [
        {
          "output_type": "execute_result",
          "data": {
            "text/plain": [
              "array([ -1,   0,   0, ..., 165,  -1, 165])"
            ]
          },
          "metadata": {
            "tags": []
          },
          "execution_count": 95
        }
      ]
    },
    {
      "cell_type": "code",
      "metadata": {
        "colab": {
          "base_uri": "https://localhost:8080/"
        },
        "id": "85NFUUPqWL_X",
        "outputId": "408c9fe9-fbe4-4344-84d1-758b43af7de2"
      },
      "source": [
        "class_member_mask"
      ],
      "execution_count": null,
      "outputs": [
        {
          "output_type": "execute_result",
          "data": {
            "text/plain": [
              "array([ True, False, False, ..., False,  True, False])"
            ]
          },
          "metadata": {
            "tags": []
          },
          "execution_count": 96
        }
      ]
    },
    {
      "cell_type": "code",
      "metadata": {
        "id": "aSCpdJRvA2kn"
      },
      "source": [
        "''' Overall Conclusion\n",
        "    I can conclude that in supervised learning algorithm KNN has better accuracy if K is chosen wisely. For increasing value of K the value of accuracy, recall and precision \n",
        "    is decreasing.\n",
        "    \n",
        "    For unsupervised ML it can be said that if outliers are constraints then it can be used and also it will not have any model parameters to be defined so it will reduce\n",
        "    computation. K means can be used if value of K can be defined accurately.\n",
        "    \n",
        "    Agglomerative clustering gives the overall view of the dataset in the form of tree structure and it uses distance as parameter for clustering. It is effective if there are\n",
        "    border points and it will be easy to classify.''''"
      ],
      "execution_count": null,
      "outputs": []
    }
  ]
}