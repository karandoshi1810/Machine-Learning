{
  "nbformat": 4,
  "nbformat_minor": 0,
  "metadata": {
    "colab": {
      "name": "Linear Regression Basic Code.ipynb",
      "provenance": [],
      "collapsed_sections": [],
      "authorship_tag": "ABX9TyMDGulMSjJyDBPpyFayii1A",
      "include_colab_link": true
    },
    "kernelspec": {
      "name": "python3",
      "display_name": "Python 3"
    }
  },
  "cells": [
    {
      "cell_type": "markdown",
      "metadata": {
        "id": "view-in-github",
        "colab_type": "text"
      },
      "source": [
        "<a href=\"https://colab.research.google.com/github/karandoshi1810/Machine-Learning/blob/main/Linear_Regression_Basic_Code.ipynb\" target=\"_parent\"><img src=\"https://colab.research.google.com/assets/colab-badge.svg\" alt=\"Open In Colab\"/></a>"
      ]
    },
    {
      "cell_type": "code",
      "metadata": {
        "id": "-pWDzNLYo_wW"
      },
      "source": [
        "#Import necessary libraries\r\n",
        "import numpy as np\r\n",
        "import matplotlib.pyplot as plt\r\n",
        "import pandas as pd"
      ],
      "execution_count": null,
      "outputs": []
    },
    {
      "cell_type": "code",
      "metadata": {
        "id": "KlIPczOtryzc"
      },
      "source": [
        "#To import datafiles from Google Drive\r\n",
        "from google.colab import drive"
      ],
      "execution_count": null,
      "outputs": []
    },
    {
      "cell_type": "code",
      "metadata": {
        "id": "d0L7sCrB0DbQ"
      },
      "source": [
        "cd /content/drive/\"My Drive/Colab Notebooks/Linear Regression\" "
      ],
      "execution_count": null,
      "outputs": []
    },
    {
      "cell_type": "markdown",
      "metadata": {
        "id": "z_qJFXn6pC1h"
      },
      "source": [
        ""
      ]
    },
    {
      "cell_type": "code",
      "metadata": {
        "colab": {
          "base_uri": "https://localhost:8080/",
          "height": 180
        },
        "id": "DPCfefJbr_q7",
        "outputId": "59e9887a-2dde-4b13-e388-2e5d085372c1"
      },
      "source": [
        "#To mount the drive data into colab cloud and enter the activation code\r\n",
        "drive.mount('/content/drive')"
      ],
      "execution_count": null,
      "outputs": [
        {
          "output_type": "error",
          "ename": "NameError",
          "evalue": "ignored",
          "traceback": [
            "\u001b[0;31m---------------------------------------------------------------------------\u001b[0m",
            "\u001b[0;31mNameError\u001b[0m                                 Traceback (most recent call last)",
            "\u001b[0;32m<ipython-input-1-f41215968706>\u001b[0m in \u001b[0;36m<module>\u001b[0;34m()\u001b[0m\n\u001b[1;32m      1\u001b[0m \u001b[0;31m#To mount the drive data into colab cloud and enter the activation code\u001b[0m\u001b[0;34m\u001b[0m\u001b[0;34m\u001b[0m\u001b[0;34m\u001b[0m\u001b[0m\n\u001b[0;32m----> 2\u001b[0;31m \u001b[0mdrive\u001b[0m\u001b[0;34m.\u001b[0m\u001b[0mmount\u001b[0m\u001b[0;34m(\u001b[0m\u001b[0;34m'/content/drive'\u001b[0m\u001b[0;34m)\u001b[0m\u001b[0;34m\u001b[0m\u001b[0;34m\u001b[0m\u001b[0m\n\u001b[0m",
            "\u001b[0;31mNameError\u001b[0m: name 'drive' is not defined"
          ]
        }
      ]
    },
    {
      "cell_type": "code",
      "metadata": {
        "id": "BRXHt_0stLGz",
        "colab": {
          "base_uri": "https://localhost:8080/"
        },
        "outputId": "dc22938d-4cff-4730-a5ac-ef6b3ebb6727"
      },
      "source": [
        "#columnname['x','y']\r\n",
        "dataset=pd.read_csv(\"train.csv\")\r\n",
        "print(dataset)\r\n",
        "dataset.shape\r\n"
      ],
      "execution_count": null,
      "outputs": [
        {
          "output_type": "stream",
          "text": [
            "        x          y\n",
            "0    24.0  21.549452\n",
            "1    50.0  47.464463\n",
            "2    15.0  17.218656\n",
            "3    38.0  36.586398\n",
            "4    87.0  87.288984\n",
            "..    ...        ...\n",
            "695  58.0  58.595006\n",
            "696  93.0  94.625094\n",
            "697  82.0  88.603770\n",
            "698  66.0  63.648685\n",
            "699  97.0  94.975266\n",
            "\n",
            "[700 rows x 2 columns]\n"
          ],
          "name": "stdout"
        },
        {
          "output_type": "execute_result",
          "data": {
            "text/plain": [
              "(700, 2)"
            ]
          },
          "metadata": {
            "tags": []
          },
          "execution_count": 5
        }
      ]
    },
    {
      "cell_type": "code",
      "metadata": {
        "id": "R39MaVcbuN4a",
        "colab": {
          "base_uri": "https://localhost:8080/",
          "height": 284
        },
        "outputId": "b6f092b8-0410-41e0-d823-8afccd50a2c1"
      },
      "source": [
        "dataf = pd.DataFrame(dataset)#typecasting to dataframe\r\n",
        "dataf.describe()#function to check the function of dataset\r\n"
      ],
      "execution_count": null,
      "outputs": [
        {
          "output_type": "execute_result",
          "data": {
            "text/html": [
              "<div>\n",
              "<style scoped>\n",
              "    .dataframe tbody tr th:only-of-type {\n",
              "        vertical-align: middle;\n",
              "    }\n",
              "\n",
              "    .dataframe tbody tr th {\n",
              "        vertical-align: top;\n",
              "    }\n",
              "\n",
              "    .dataframe thead th {\n",
              "        text-align: right;\n",
              "    }\n",
              "</style>\n",
              "<table border=\"1\" class=\"dataframe\">\n",
              "  <thead>\n",
              "    <tr style=\"text-align: right;\">\n",
              "      <th></th>\n",
              "      <th>x</th>\n",
              "      <th>y</th>\n",
              "    </tr>\n",
              "  </thead>\n",
              "  <tbody>\n",
              "    <tr>\n",
              "      <th>count</th>\n",
              "      <td>700.000000</td>\n",
              "      <td>699.000000</td>\n",
              "    </tr>\n",
              "    <tr>\n",
              "      <th>mean</th>\n",
              "      <td>54.985939</td>\n",
              "      <td>49.939869</td>\n",
              "    </tr>\n",
              "    <tr>\n",
              "      <th>std</th>\n",
              "      <td>134.681703</td>\n",
              "      <td>29.109217</td>\n",
              "    </tr>\n",
              "    <tr>\n",
              "      <th>min</th>\n",
              "      <td>0.000000</td>\n",
              "      <td>-3.839981</td>\n",
              "    </tr>\n",
              "    <tr>\n",
              "      <th>25%</th>\n",
              "      <td>25.000000</td>\n",
              "      <td>24.929968</td>\n",
              "    </tr>\n",
              "    <tr>\n",
              "      <th>50%</th>\n",
              "      <td>49.000000</td>\n",
              "      <td>48.973020</td>\n",
              "    </tr>\n",
              "    <tr>\n",
              "      <th>75%</th>\n",
              "      <td>75.000000</td>\n",
              "      <td>74.929911</td>\n",
              "    </tr>\n",
              "    <tr>\n",
              "      <th>max</th>\n",
              "      <td>3530.157369</td>\n",
              "      <td>108.871618</td>\n",
              "    </tr>\n",
              "  </tbody>\n",
              "</table>\n",
              "</div>"
            ],
            "text/plain": [
              "                 x           y\n",
              "count   700.000000  699.000000\n",
              "mean     54.985939   49.939869\n",
              "std     134.681703   29.109217\n",
              "min       0.000000   -3.839981\n",
              "25%      25.000000   24.929968\n",
              "50%      49.000000   48.973020\n",
              "75%      75.000000   74.929911\n",
              "max    3530.157369  108.871618"
            ]
          },
          "metadata": {
            "tags": []
          },
          "execution_count": 6
        }
      ]
    },
    {
      "cell_type": "code",
      "metadata": {
        "id": "f4DbURoLwpf9",
        "colab": {
          "base_uri": "https://localhost:8080/"
        },
        "outputId": "fb9287ec-b66e-4a10-cc6d-1aa7419bdb72"
      },
      "source": [
        "x_value=dataf.iloc[0:700,0:1]\r\n",
        "y_value=dataf.iloc[0:700,1:2]\r\n",
        "print(x_value)\r\n",
        "print(y_value)"
      ],
      "execution_count": null,
      "outputs": [
        {
          "output_type": "stream",
          "text": [
            "        x\n",
            "0    24.0\n",
            "1    50.0\n",
            "2    15.0\n",
            "3    38.0\n",
            "4    87.0\n",
            "..    ...\n",
            "695  58.0\n",
            "696  93.0\n",
            "697  82.0\n",
            "698  66.0\n",
            "699  97.0\n",
            "\n",
            "[700 rows x 1 columns]\n",
            "             y\n",
            "0    21.549452\n",
            "1    47.464463\n",
            "2    17.218656\n",
            "3    36.586398\n",
            "4    87.288984\n",
            "..         ...\n",
            "695  58.595006\n",
            "696  94.625094\n",
            "697  88.603770\n",
            "698  63.648685\n",
            "699  94.975266\n",
            "\n",
            "[700 rows x 1 columns]\n"
          ],
          "name": "stdout"
        }
      ]
    },
    {
      "cell_type": "code",
      "metadata": {
        "id": "kBZ3ff-Nx5YF",
        "colab": {
          "base_uri": "https://localhost:8080/",
          "height": 265
        },
        "outputId": "390958c1-0258-45c8-a440-f933c0d02f3d"
      },
      "source": [
        "x_box = x_value.boxplot(column=['x'])#to visualize outliers"
      ],
      "execution_count": null,
      "outputs": [
        {
          "output_type": "display_data",
          "data": {
            "image/png": "[encoded data removed]",
            "text/plain": [
              "<Figure size 432x288 with 1 Axes>"
            ]
          },
          "metadata": {
            "tags": [],
            "needs_background": "light"
          }
        }
      ]
    },
    {
      "cell_type": "code",
      "metadata": {
        "id": "ECeEnnbtyJAw",
        "colab": {
          "base_uri": "https://localhost:8080/",
          "height": 265
        },
        "outputId": "8c9cbc75-d097-42a3-b137-5c13cc45ef22"
      },
      "source": [
        "y_box = y_value.boxplot(column=['y'])#to visualize outliers"
      ],
      "execution_count": null,
      "outputs": [
        {
          "output_type": "display_data",
          "data": {
            "image/png": "[encoded data removed]",
            "text/plain": [
              "<Figure size 432x288 with 1 Axes>"
            ]
          },
          "metadata": {
            "tags": [],
            "needs_background": "light"
          }
        }
      ]
    },
    {
      "cell_type": "code",
      "metadata": {
        "id": "XZl_e4qCmkaO",
        "colab": {
          "base_uri": "https://localhost:8080/",
          "height": 313
        },
        "outputId": "c5c084b9-8db8-4b63-badd-fe01835c3831"
      },
      "source": [
        "#Visualization of data\r\n",
        "import matplotlib.pyplot as plt\r\n",
        "plt.scatter(x_value,y_value)\r\n",
        "plt.xticks(np.arange(5,100,step=5)) #units per cm or used for scaling\r\n",
        "plt.yticks(np.arange(-5,100,step=5)) #units per cm or used for scaling\r\n",
        "plt.xlabel(\"X-Values\")\r\n",
        "plt.ylabel(\"Y-Values\")\r\n",
        "plt.title(\"First Linear Regression Scatter Plot\")"
      ],
      "execution_count": null,
      "outputs": [
        {
          "output_type": "execute_result",
          "data": {
            "text/plain": [
              "Text(0.5, 1.0, 'First Linear Regression Scatter Plot')"
            ]
          },
          "metadata": {
            "tags": []
          },
          "execution_count": 11
        },
        {
          "output_type": "display_data",
          "data": {
            "image/png": "[encoded data removed]",
            "text/plain": [
              "<Figure size 432x288 with 1 Axes>"
            ]
          },
          "metadata": {
            "tags": [],
            "needs_background": "light"
          }
        }
      ]
    },
    {
      "cell_type": "code",
      "metadata": {
        "id": "Lm7gm0wvo5mI"
      },
      "source": [
        "#define hypothesis: theta_array[0]+theta_array[1]*x\r\n",
        "def hypothesis(theta_array,x): #theta_array=[theta_array[0],theta_array[1]]\r\n",
        "  return theta_array[0]+theta_array[1]*x"
      ],
      "execution_count": null,
      "outputs": []
    },
    {
      "cell_type": "code",
      "metadata": {
        "id": "PvjBY5sKqeSB"
      },
      "source": [
        "#define cost function\r\n",
        "def cost_function(theta_array,x,y,m):\r\n",
        "  squared_error=0\r\n",
        "  for value in range(m):\r\n",
        "    squared_error+=(theta_array[0]+theta_array[1]*x[value]-y[value])**2 #compute error for every point\r\n",
        "  return squared_error/(2*m) #return cost for this iteration"
      ],
      "execution_count": null,
      "outputs": []
    },
    {
      "cell_type": "code",
      "metadata": {
        "id": "QapOsO0sr7Ln"
      },
      "source": [
        "#define gradient decent\r\n",
        "def gradient_decent(theta_array,x,y,alpha,m):\r\n",
        "  summation_0=0\r\n",
        "  summation_1=0\r\n",
        "\r\n",
        "  for i in range(m):\r\n",
        "    summation_0+=theta_array[0]+theta_array[1]*x[i]-y[i] #calaulating theta0 for cost function\r\n",
        "    summation_1+=(theta_array[0]+theta_array[1]*x[i]-y[i])*x[i] #calaulating theta1 for cost function\r\n",
        "\r\n",
        "  new_theta_0=theta_array[0]-alpha*(summation_0)/m  \r\n",
        "  new_theta_1=theta_array[1]-alpha*(summation_1)/m\r\n",
        "\r\n",
        "  updated_theta_array=[new_theta_0,new_theta_1]\r\n",
        "  #print(updated_theta_array)\r\n",
        "  return updated_theta_array"
      ],
      "execution_count": null,
      "outputs": []
    },
    {
      "cell_type": "code",
      "metadata": {
        "id": "wdPdQOzgvIDy"
      },
      "source": [
        "#training the model\r\n",
        "def training(x,y,alpha,iters):\r\n",
        "  theta_0=0\r\n",
        "  theta_1=1\r\n",
        "  theta_array = [theta_0,theta_1]\r\n",
        "  cost_function_values=[]\r\n",
        "\r\n",
        "  m=x.size    #size of dataset or total number of observations\r\n",
        "  for i in range (iter):\r\n",
        "    theta_array=gradient_decent(theta_array,x,y,alpha,m) #update thetas to get a new cost function\r\n",
        "    cost_function_values.append(cost_function(theta_array,x,y,m))\r\n",
        "    y_new=x*theta_array[1] + theta_array[0] #Linear Regression Line\r\n",
        "    \"\"\"plt.plot(x,y_new,'r')\r\n",
        "    plt.scatter(x,y)\r\n",
        "    plt.show()\"\"\"  \r\n",
        "  x=np.arange(0,len(cost_function_values),step=1)\r\n",
        "  plt.plot(x,cost_function_values,\"-b\")\r\n",
        "  plt.xlabel(\"Number of iterations\")  \r\n",
        "  plt.ylabel(\"Cost/Loss values\")\r\n",
        "  plt.show()\r\n",
        "  return theta_array\r\n",
        "  "
      ],
      "execution_count": null,
      "outputs": []
    },
    {
      "cell_type": "code",
      "metadata": {
        "colab": {
          "base_uri": "https://localhost:8080/",
          "height": 402
        },
        "id": "nHhEOr0lxQgK",
        "outputId": "68395278-3f2c-4f15-942f-6e0b8e77f0e4"
      },
      "source": [
        "training_data=pd.read_csv(\"train.csv\")\r\n",
        "cleaning_dataset=training_data.dropna() #drops the observation for NaN\r\n",
        "cleaning_dataset"
      ],
      "execution_count": null,
      "outputs": [
        {
          "output_type": "execute_result",
          "data": {
            "text/html": [
              "<div>\n",
              "<style scoped>\n",
              "    .dataframe tbody tr th:only-of-type {\n",
              "        vertical-align: middle;\n",
              "    }\n",
              "\n",
              "    .dataframe tbody tr th {\n",
              "        vertical-align: top;\n",
              "    }\n",
              "\n",
              "    .dataframe thead th {\n",
              "        text-align: right;\n",
              "    }\n",
              "</style>\n",
              "<table border=\"1\" class=\"dataframe\">\n",
              "  <thead>\n",
              "    <tr style=\"text-align: right;\">\n",
              "      <th></th>\n",
              "      <th>x</th>\n",
              "      <th>y</th>\n",
              "    </tr>\n",
              "  </thead>\n",
              "  <tbody>\n",
              "    <tr>\n",
              "      <th>0</th>\n",
              "      <td>24.0</td>\n",
              "      <td>21.549452</td>\n",
              "    </tr>\n",
              "    <tr>\n",
              "      <th>1</th>\n",
              "      <td>50.0</td>\n",
              "      <td>47.464463</td>\n",
              "    </tr>\n",
              "    <tr>\n",
              "      <th>2</th>\n",
              "      <td>15.0</td>\n",
              "      <td>17.218656</td>\n",
              "    </tr>\n",
              "    <tr>\n",
              "      <th>3</th>\n",
              "      <td>38.0</td>\n",
              "      <td>36.586398</td>\n",
              "    </tr>\n",
              "    <tr>\n",
              "      <th>4</th>\n",
              "      <td>87.0</td>\n",
              "      <td>87.288984</td>\n",
              "    </tr>\n",
              "    <tr>\n",
              "      <th>...</th>\n",
              "      <td>...</td>\n",
              "      <td>...</td>\n",
              "    </tr>\n",
              "    <tr>\n",
              "      <th>695</th>\n",
              "      <td>58.0</td>\n",
              "      <td>58.595006</td>\n",
              "    </tr>\n",
              "    <tr>\n",
              "      <th>696</th>\n",
              "      <td>93.0</td>\n",
              "      <td>94.625094</td>\n",
              "    </tr>\n",
              "    <tr>\n",
              "      <th>697</th>\n",
              "      <td>82.0</td>\n",
              "      <td>88.603770</td>\n",
              "    </tr>\n",
              "    <tr>\n",
              "      <th>698</th>\n",
              "      <td>66.0</td>\n",
              "      <td>63.648685</td>\n",
              "    </tr>\n",
              "    <tr>\n",
              "      <th>699</th>\n",
              "      <td>97.0</td>\n",
              "      <td>94.975266</td>\n",
              "    </tr>\n",
              "  </tbody>\n",
              "</table>\n",
              "<p>699 rows × 2 columns</p>\n",
              "</div>"
            ],
            "text/plain": [
              "        x          y\n",
              "0    24.0  21.549452\n",
              "1    50.0  47.464463\n",
              "2    15.0  17.218656\n",
              "3    38.0  36.586398\n",
              "4    87.0  87.288984\n",
              "..    ...        ...\n",
              "695  58.0  58.595006\n",
              "696  93.0  94.625094\n",
              "697  82.0  88.603770\n",
              "698  66.0  63.648685\n",
              "699  97.0  94.975266\n",
              "\n",
              "[699 rows x 2 columns]"
            ]
          },
          "metadata": {
            "tags": []
          },
          "execution_count": 59
        }
      ]
    },
    {
      "cell_type": "code",
      "metadata": {
        "id": "kwQ26jjfx0zY"
      },
      "source": [
        "x_train=cleaning_dataset['x']"
      ],
      "execution_count": null,
      "outputs": []
    },
    {
      "cell_type": "code",
      "metadata": {
        "id": "qJWXxV4Gx5PY"
      },
      "source": [
        "y_train=cleaning_dataset['y']"
      ],
      "execution_count": null,
      "outputs": []
    },
    {
      "cell_type": "code",
      "metadata": {
        "colab": {
          "base_uri": "https://localhost:8080/"
        },
        "id": "JvHJrA-fx_Tz",
        "outputId": "e3ed695f-c590-4552-a5fd-8075866955db"
      },
      "source": [
        "x_train.shape\r\n",
        "x_value=x_train.values.reshape(x_train.size)\r\n",
        "x_value.shape"
      ],
      "execution_count": null,
      "outputs": [
        {
          "output_type": "execute_result",
          "data": {
            "text/plain": [
              "(699,)"
            ]
          },
          "metadata": {
            "tags": []
          },
          "execution_count": 62
        }
      ]
    },
    {
      "cell_type": "code",
      "metadata": {
        "colab": {
          "base_uri": "https://localhost:8080/"
        },
        "id": "Qw5Ond-8yYDs",
        "outputId": "a56d5e7e-1e6f-4861-958a-27b132c3aef3"
      },
      "source": [
        "y_train.shape\r\n",
        "y_value=y_train.values.reshape(y_train.size)\r\n",
        "y_value.shape"
      ],
      "execution_count": null,
      "outputs": [
        {
          "output_type": "execute_result",
          "data": {
            "text/plain": [
              "(699,)"
            ]
          },
          "metadata": {
            "tags": []
          },
          "execution_count": 63
        }
      ]
    },
    {
      "cell_type": "code",
      "metadata": {
        "colab": {
          "base_uri": "https://localhost:8080/",
          "height": 290
        },
        "id": "ovEjMcTGydFt",
        "outputId": "f92817e1-a8b7-414f-f512-55b2cbea190e"
      },
      "source": [
        "alpha=0.0001\r\n",
        "iter=100\r\n",
        "theta_array = training(x_value,y_value,alpha,iter)"
      ],
      "execution_count": null,
      "outputs": [
        {
          "output_type": "display_data",
          "data": {
            "image/png": "[encoded data removed]",
            "text/plain": [
              "<Figure size 432x288 with 1 Axes>"
            ]
          },
          "metadata": {
            "tags": [],
            "needs_background": "light"
          }
        }
      ]
    },
    {
      "cell_type": "code",
      "metadata": {
        "id": "c48t9dAnukms"
      },
      "source": [
        ""
      ],
      "execution_count": null,
      "outputs": []
    }
  ]
}