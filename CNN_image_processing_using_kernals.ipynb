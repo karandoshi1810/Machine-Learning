{
  "nbformat": 4,
  "nbformat_minor": 0,
  "metadata": {
    "colab": {
      "name": "CNN_image_processing_using_kernals.ipynb",
      "provenance": [],
      "authorship_tag": "ABX9TyOVhNjsm0PvaKr0JqGkCizo",
      "include_colab_link": true
    },
    "kernelspec": {
      "name": "python3",
      "display_name": "Python 3"
    },
    "language_info": {
      "name": "python"
    }
  },
  "cells": [
    {
      "cell_type": "markdown",
      "metadata": {
        "id": "view-in-github",
        "colab_type": "text"
      },
      "source": [
        "<a href=\"https://colab.research.google.com/github/karandoshi1810/Machine-Learning/blob/main/CNN_image_processing_using_kernals.ipynb\" target=\"_parent\"><img src=\"https://colab.research.google.com/assets/colab-badge.svg\" alt=\"Open In Colab\"/></a>"
      ]
    },
    {
      "cell_type": "code",
      "metadata": {
        "id": "6iKHjtWumUtf"
      },
      "source": [
        "from google.colab import drive #to import the google drive data"
      ],
      "execution_count": 2,
      "outputs": []
    },
    {
      "cell_type": "code",
      "metadata": {
        "colab": {
          "base_uri": "https://localhost:8080/"
        },
        "id": "qJcYobn4mfcT",
        "outputId": "d5fb5a1b-849c-4e77-9e36-fffa01c3e637"
      },
      "source": [
        "drive.mount('/content/drive')"
      ],
      "execution_count": 3,
      "outputs": [
        {
          "output_type": "stream",
          "text": [
            "Mounted at /content/drive\n"
          ],
          "name": "stdout"
        }
      ]
    },
    {
      "cell_type": "code",
      "metadata": {
        "colab": {
          "base_uri": "https://localhost:8080/"
        },
        "id": "DrYUy_Pamh4t",
        "outputId": "040977ee-d77b-4679-b723-e81c94c1143a"
      },
      "source": [
        "cd /content/drive/\"My Drive/Colab Notebooks/Dataset\""
      ],
      "execution_count": 4,
      "outputs": [
        {
          "output_type": "stream",
          "text": [
            "/content/drive/My Drive/Colab Notebooks/Dataset\n"
          ],
          "name": "stdout"
        }
      ]
    },
    {
      "cell_type": "code",
      "metadata": {
        "id": "OoOxLxMkm33U"
      },
      "source": [
        "import cv2 \n",
        "import numpy as np \n",
        "import matplotlib.pyplot as plt \n",
        "from PIL import Image, ImageFilter\n",
        "import numpy as np\n",
        "import cv2 as cv \n",
        "from google.colab.patches import cv2_imshow # for image display\n",
        "from scipy.ndimage.filters import convolve"
      ],
      "execution_count": 5,
      "outputs": []
    },
    {
      "cell_type": "code",
      "metadata": {
        "colab": {
          "base_uri": "https://localhost:8080/",
          "height": 113
        },
        "id": "P7-807YHm-GR",
        "outputId": "49e57024-9837-43a1-cbe5-620839410560"
      },
      "source": [
        "img = cv2.imread('me.png',cv2.IMREAD_GRAYSCALE) \n",
        "scale_percent = 15 # percent of original size\n",
        "width = int(img.shape[1] * scale_percent / 100)\n",
        "height = int(img.shape[0] * scale_percent / 100)\n",
        "dim = (width, height)\n",
        "  \n",
        "# resize image\n",
        "resized = cv2.resize(img, dim, interpolation = cv2.INTER_AREA)\n",
        "cv2_imshow(resized)"
      ],
      "execution_count": 6,
      "outputs": [
        {
          "output_type": "display_data",
          "data": {
            "image/png": "[encoded data removed]",
            "text/plain": [
              "<PIL.Image.Image image mode=L size=72x96 at 0x7FE5E54CBD90>"
            ]
          },
          "metadata": {
            "tags": []
          }
        }
      ]
    },
    {
      "cell_type": "code",
      "metadata": {
        "colab": {
          "base_uri": "https://localhost:8080/",
          "height": 113
        },
        "id": "WnDTD1HjnnMN",
        "outputId": "4e285f61-ee0c-4a9c-edc9-17d4a0a9e6aa"
      },
      "source": [
        "identity=np.array([[0,0,0],[0,1,0],[0,0,0]])\n",
        "im = np.array(resized, dtype=float) #Convert to float to prevent clipping colors\n",
        "kernel = identity\n",
        "im2 = convolve(im, kernel)\n",
        "im3 = np.array(np.clip(im2, 0, 255), dtype=np.uint8) #Apply color clipping\n",
        "\n",
        "img_new = cv2.hconcat([resized,im3])\n",
        "cv2_imshow(img_new)\n"
      ],
      "execution_count": 7,
      "outputs": [
        {
          "output_type": "display_data",
          "data": {
            "image/png": "[encoded data removed]",
            "text/plain": [
              "<PIL.Image.Image image mode=L size=144x96 at 0x7FE5E545A4D0>"
            ]
          },
          "metadata": {
            "tags": []
          }
        }
      ]
    },
    {
      "cell_type": "code",
      "metadata": {
        "colab": {
          "base_uri": "https://localhost:8080/",
          "height": 113
        },
        "id": "9CVSO9rRnvcC",
        "outputId": "bfc301ee-0168-40e4-9b3d-9395a225c4b6"
      },
      "source": [
        "BoxBlur2=np.array([[1,1,1],[1,1,1],[1,1,1]])*(1/15)    #Sharper Blur but on changing values (instead of 9) can change the bluring\n",
        "im = np.array(resized, dtype=float) #Convert to float to prevent clipping colors\n",
        "kernel = BoxBlur2\n",
        "im2 = convolve(im, kernel)\n",
        "im3 = np.array(np.clip(im2, 0, 255), dtype=np.uint8) #Apply color clipping\n",
        "\n",
        "img_new = cv2.hconcat([resized,im3])\n",
        "cv2_imshow(img_new)"
      ],
      "execution_count": 8,
      "outputs": [
        {
          "output_type": "display_data",
          "data": {
            "image/png": "[encoded data removed]",
            "text/plain": [
              "<PIL.Image.Image image mode=L size=144x96 at 0x7FE5E54CBA90>"
            ]
          },
          "metadata": {
            "tags": []
          }
        }
      ]
    },
    {
      "cell_type": "code",
      "metadata": {
        "colab": {
          "base_uri": "https://localhost:8080/",
          "height": 113
        },
        "id": "V7KOJNTEnz_w",
        "outputId": "1c5b10a0-b45e-417a-e431-503be220f652"
      },
      "source": [
        "BoxBlur=np.array([[0,-1,0],[-1,5,-1],[0,-1,0]])*(1/5)      #take (1/5)\n",
        "im = np.array(resized, dtype=float) #Convert to float to prevent clipping colors\n",
        "kernel = BoxBlur\n",
        "im2 = convolve(im, kernel)\n",
        "im3 = np.array(np.clip(im2, 0, 255), dtype=np.uint8) #Apply color clipping\n",
        "\n",
        "img_new = cv2.hconcat([resized,im3])\n",
        "cv2_imshow(img_new)"
      ],
      "execution_count": 9,
      "outputs": [
        {
          "output_type": "display_data",
          "data": {
            "image/png": "[encoded data removed]",
            "text/plain": [
              "<PIL.Image.Image image mode=L size=144x96 at 0x7FE5E53E3CD0>"
            ]
          },
          "metadata": {
            "tags": []
          }
        }
      ]
    },
    {
      "cell_type": "code",
      "metadata": {
        "colab": {
          "base_uri": "https://localhost:8080/",
          "height": 113
        },
        "id": "KdL_GHrSn4My",
        "outputId": "03dc0470-60e1-4190-bc47-0dfcb72bf911"
      },
      "source": [
        "smallBlur = np.ones((7, 7), dtype=\"float\") * (1.0 / (7 * 7))\n",
        "im = np.array(resized, dtype=float) #Convert to float to prevent clipping colors\n",
        "kernel = smallBlur\n",
        "im2 = convolve(im, kernel)\n",
        "im3 = np.array(np.clip(im2, 0, 255), dtype=np.uint8) #Apply color clipping\n",
        "\n",
        "img_new = cv2.hconcat([resized,im3])\n",
        "cv2_imshow(img_new)"
      ],
      "execution_count": 10,
      "outputs": [
        {
          "output_type": "display_data",
          "data": {
            "image/png": "[encoded data removed]",
            "text/plain": [
              "<PIL.Image.Image image mode=L size=144x96 at 0x7FE5E545A350>"
            ]
          },
          "metadata": {
            "tags": []
          }
        }
      ]
    },
    {
      "cell_type": "code",
      "metadata": {
        "colab": {
          "base_uri": "https://localhost:8080/",
          "height": 113
        },
        "id": "KqwbknHVn9Y8",
        "outputId": "a8cb9d4d-e6e5-4f25-e00c-6820228d3a8a"
      },
      "source": [
        "largeBlur = np.ones((21, 21), dtype=\"float\") * (1.0 / (21 * 21))\n",
        "im = np.array(resized, dtype=float) #Convert to float to prevent clipping colors\n",
        "kernel = largeBlur\n",
        "im2 = convolve(im, kernel)\n",
        "im3 = np.array(np.clip(im2, 0, 255), dtype=np.uint8) #Apply color clipping\n",
        "\n",
        "img_new = cv2.hconcat([resized,im3])\n",
        "cv2_imshow(img_new)"
      ],
      "execution_count": 17,
      "outputs": [
        {
          "output_type": "display_data",
          "data": {
            "image/png": "[encoded data removed]",
            "text/plain": [
              "<PIL.Image.Image image mode=L size=144x96 at 0x7FE5E53A0490>"
            ]
          },
          "metadata": {
            "tags": []
          }
        }
      ]
    },
    {
      "cell_type": "code",
      "metadata": {
        "colab": {
          "base_uri": "https://localhost:8080/",
          "height": 113
        },
        "id": "lqOfV1xtoAg4",
        "outputId": "31d412e7-bd80-4bfe-a25b-7cbda11651e3"
      },
      "source": [
        "edgedetection1=np.array([[1,0,-1],[0,0,0],[-1,0,1]])\n",
        "im = np.array(resized, dtype=float) #Convert to float to prevent clipping colors\n",
        "kernel = edgedetection1\n",
        "im2 = convolve(im, kernel)\n",
        "im3 = np.array(np.clip(im2, 0, 255), dtype=np.uint8) #Apply color clipping\n",
        "\n",
        "img_new = cv2.hconcat([resized,im3])\n",
        "cv2_imshow(img_new)"
      ],
      "execution_count": 11,
      "outputs": [
        {
          "output_type": "display_data",
          "data": {
            "image/png": "[encoded data removed]",
            "text/plain": [
              "<PIL.Image.Image image mode=L size=144x96 at 0x7FE5E545AF10>"
            ]
          },
          "metadata": {
            "tags": []
          }
        }
      ]
    },
    {
      "cell_type": "code",
      "metadata": {
        "colab": {
          "base_uri": "https://localhost:8080/",
          "height": 113
        },
        "id": "1rvdWqKKoGbK",
        "outputId": "54bfb1ed-d167-4f51-a9ba-41f0bd8c69e6"
      },
      "source": [
        "edgedetection2=np.array([[0,1,0],[1,-4,1],[0,1,0]])\n",
        "im = np.array(resized, dtype=float) #Convert to float to prevent clipping colors\n",
        "kernel = edgedetection2\n",
        "im2 = convolve(im, kernel)\n",
        "im3 = np.array(np.clip(im2, 0, 255), dtype=np.uint8) #Apply color clipping\n",
        "\n",
        "img_new = cv2.hconcat([resized,im3])\n",
        "cv2_imshow(img_new)"
      ],
      "execution_count": 12,
      "outputs": [
        {
          "output_type": "display_data",
          "data": {
            "image/png": "[encoded data removed]",
            "text/plain": [
              "<PIL.Image.Image image mode=L size=144x96 at 0x7FE5E53EFCD0>"
            ]
          },
          "metadata": {
            "tags": []
          }
        }
      ]
    },
    {
      "cell_type": "code",
      "metadata": {
        "colab": {
          "base_uri": "https://localhost:8080/",
          "height": 113
        },
        "id": "tXw8ScH2oJla",
        "outputId": "4a5699b5-5004-45ac-e8e1-281efea5242f"
      },
      "source": [
        "edgedetection3=np.array([[-1,-1,-1],[-1,8,-1],[-1,-1,-1]])\n",
        "im = np.array(resized, dtype=float) #Convert to float to prevent clipping colors\n",
        "kernel = edgedetection2\n",
        "im2 = convolve(im, kernel)\n",
        "im3 = np.array(np.clip(im2, 0, 255), dtype=np.uint8) #Apply color clipping\n",
        "\n",
        "img_new = cv2.hconcat([resized,im3])\n",
        "cv2_imshow(img_new)"
      ],
      "execution_count": 13,
      "outputs": [
        {
          "output_type": "display_data",
          "data": {
            "image/png": "[encoded data removed]",
            "text/plain": [
              "<PIL.Image.Image image mode=L size=144x96 at 0x7FE5E54489D0>"
            ]
          },
          "metadata": {
            "tags": []
          }
        }
      ]
    },
    {
      "cell_type": "code",
      "metadata": {
        "colab": {
          "base_uri": "https://localhost:8080/",
          "height": 113
        },
        "id": "1ZWdXqhXoMoz",
        "outputId": "e06c163c-5158-4166-a53d-2acf29005b80"
      },
      "source": [
        "sharpen=np.array([[0,-1,0],[-1,5,-1],[0,-1,0]])\n",
        "im = np.array(resized, dtype=float) #Convert to float to prevent clipping colors\n",
        "kernel = sharpen\n",
        "im2 = convolve(im, kernel)\n",
        "im3 = np.array(np.clip(im2, 0, 255), dtype=np.uint8) #Apply color clipping\n",
        "\n",
        "img_new = cv2.hconcat([resized,im3])\n",
        "cv2_imshow(img_new)"
      ],
      "execution_count": 14,
      "outputs": [
        {
          "output_type": "display_data",
          "data": {
            "image/png": "[encoded data removed]",
            "text/plain": [
              "<PIL.Image.Image image mode=L size=144x96 at 0x7FE5E53A0190>"
            ]
          },
          "metadata": {
            "tags": []
          }
        }
      ]
    },
    {
      "cell_type": "code",
      "metadata": {
        "colab": {
          "base_uri": "https://localhost:8080/",
          "height": 113
        },
        "id": "qUvJB_G9oRi5",
        "outputId": "70f9dc12-c809-4b70-a5d6-2af4ce77625d"
      },
      "source": [
        "sobel_hori=np.array([[1,2,1],[0,0,0],[-1,-2,-1]])\n",
        "im = np.array(resized, dtype=float) #Convert to float to prevent clipping colors\n",
        "kernel = sobel_hori\n",
        "im2 = convolve(im, kernel)\n",
        "im3 = np.array(np.clip(im2, 0, 255), dtype=np.uint8) #Apply color clipping\n",
        "\n",
        "img_new = cv2.hconcat([resized,im3])\n",
        "cv2_imshow(img_new)"
      ],
      "execution_count": 15,
      "outputs": [
        {
          "output_type": "display_data",
          "data": {
            "image/png": "[encoded data removed]",
            "text/plain": [
              "<PIL.Image.Image image mode=L size=144x96 at 0x7FE5E53F9910>"
            ]
          },
          "metadata": {
            "tags": []
          }
        }
      ]
    },
    {
      "cell_type": "code",
      "metadata": {
        "colab": {
          "base_uri": "https://localhost:8080/",
          "height": 113
        },
        "id": "jBAhYTpwoUXh",
        "outputId": "195c2df3-22d0-4014-b8b3-b79570049738"
      },
      "source": [
        "sobel_verti=np.array([[-1,0,1],[-2,0,2],[-1,0,1]])\n",
        "im = np.array(resized, dtype=float) #Convert to float to prevent clipping colors\n",
        "kernel = sobel_verti\n",
        "im2 = convolve(im, kernel)\n",
        "im3 = np.array(np.clip(im2, 0, 255), dtype=np.uint8) #Apply color clipping\n",
        "\n",
        "img_new = cv2.hconcat([resized,im3])\n",
        "cv2_imshow(img_new)"
      ],
      "execution_count": 16,
      "outputs": [
        {
          "output_type": "display_data",
          "data": {
            "image/png": "[encoded data removed]",
            "text/plain": [
              "<PIL.Image.Image image mode=L size=144x96 at 0x7FE5E5448F90>"
            ]
          },
          "metadata": {
            "tags": []
          }
        }
      ]
    }
  ]
}