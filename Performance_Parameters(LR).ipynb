{
  "nbformat": 4,
  "nbformat_minor": 0,
  "metadata": {
    "colab": {
      "name": "Performance Parameters(LR).ipynb",
      "provenance": [],
      "authorship_tag": "ABX9TyMy8ymj/92uCT4swtDtJ0Tu",
      "include_colab_link": true
    },
    "kernelspec": {
      "name": "python3",
      "display_name": "Python 3"
    }
  },
  "cells": [
    {
      "cell_type": "markdown",
      "metadata": {
        "id": "view-in-github",
        "colab_type": "text"
      },
      "source": [
        "<a href=\"https://colab.research.google.com/github/karandoshi1810/Machine-Learning/blob/main/Performance_Parameters(LR).ipynb\" target=\"_parent\"><img src=\"https://colab.research.google.com/assets/colab-badge.svg\" alt=\"Open In Colab\"/></a>"
      ]
    },
    {
      "cell_type": "code",
      "metadata": {
        "id": "X1MIgAPDxL2F"
      },
      "source": [
        "import numpy as np\r\n",
        "import pandas as pd\r\n",
        "import matplotlib.pyplot as plt"
      ],
      "execution_count": null,
      "outputs": []
    },
    {
      "cell_type": "code",
      "metadata": {
        "id": "c0MI0uv6xks3"
      },
      "source": [
        "#define mean square error\r\n",
        "def mse(y,y_pred):\r\n",
        "  return ((np.sum(y-y_pred)**2))/len(y)"
      ],
      "execution_count": null,
      "outputs": []
    },
    {
      "cell_type": "code",
      "metadata": {
        "id": "7Q7vaGkQx5g8"
      },
      "source": [
        "#define mean absolute error\r\n",
        "def mae(y,y_pred):\r\n",
        "  return np.abs(np.sum(y-y_pred))"
      ],
      "execution_count": null,
      "outputs": []
    },
    {
      "cell_type": "code",
      "metadata": {
        "id": "uIO7_Um8y5dj"
      },
      "source": [
        "#define root mean square error\r\n",
        "def rmse(y,y_pred):\r\n",
        "  error=0\r\n",
        "  error = (np.sum(y-y_pred)**2)/len(y)\r\n",
        "  return np.sqrt(error)"
      ],
      "execution_count": null,
      "outputs": []
    },
    {
      "cell_type": "code",
      "metadata": {
        "id": "mhaermUoz5t6"
      },
      "source": [
        "#define r-squared error\r\n",
        "def r2(y,y_pred):\r\n",
        "    y_mean_line = [np.mean(y) for x in y]\r\n",
        "    squared_error_regr = np.sum((y-y_pred)**2)\r\n",
        "    squared_error_y_mean = np.sum((y-y_mean_line)**2)\r\n",
        "    return 1 - (squared_error_regr/squared_error_y_mean)"
      ],
      "execution_count": null,
      "outputs": []
    },
    {
      "cell_type": "code",
      "metadata": {
        "colab": {
          "base_uri": "https://localhost:8080/"
        },
        "id": "6aoZGN8t3kRF",
        "outputId": "b0d6495e-e37e-429c-9364-27263db631a7"
      },
      "source": [
        "\r\n",
        "dataset = pd.read_csv('student_scores.csv')\r\n",
        "dataset\r\n",
        "print(\"Mean Squared Error:\",mse(dataset.iloc[:,1],dataset.iloc[:,2]))\r\n",
        "print(\"Mean Absolute Error\",mae(dataset.iloc[:,1],dataset.iloc[:,2]))\r\n",
        "print(\"Root Mean Squared Error\",rmse(dataset.iloc[:,1],dataset.iloc[:,2]))\r\n",
        "print(\"R-squared error:\",r2(dataset.iloc[:,1],dataset.iloc[:,2]))"
      ],
      "execution_count": null,
      "outputs": [
        {
          "output_type": "stream",
          "text": [
            "Mean Squared Error: 1.96\n",
            "Mean Absolute Error 7\n",
            "Root Mean Squared Error 1.4\n",
            "R-squared error: 0.9779098984506954\n"
          ],
          "name": "stdout"
        }
      ]
    }
  ]
}